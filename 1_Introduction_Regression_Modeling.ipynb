{
 "cells": [
  {
   "cell_type": "code",
   "execution_count": 13,
   "metadata": {},
   "outputs": [],
   "source": [
    "import numpy as np\n",
    "import pandas as pd"
   ]
  },
  {
   "cell_type": "markdown",
   "metadata": {},
   "source": [
    "# Learning outcomes"
   ]
  },
  {
   "cell_type": "markdown",
   "metadata": {},
   "source": [
    "Throughout this course we will cover:\n",
    "- Quick introduction on the different types of Machine Learning/AI use cases\n",
    "- What is regression and where can it be applied ?\n",
    "- Various techniques to perform regression modeling including linear and non-linear and why it matters for modeling\n",
    "- Python libraries in our toolbox\n",
    "- Object orientation for the simple case of our project\n",
    "- Facts about the dataset we will be working with some exploratory data analysis to help us understand it\n",
    "- Visualization of relationships between variables\n",
    "- Evaluation and model diagnostics"
   ]
  },
  {
   "cell_type": "markdown",
   "metadata": {},
   "source": [
    "# Introduction"
   ]
  },
  {
   "cell_type": "markdown",
   "metadata": {},
   "source": [
    "Machine Learning and AI has picked up in the last decade as we have generated exponentially more data leading to the surge in demand to make sense of complex relationships found within. "
   ]
  },
  {
   "cell_type": "markdown",
   "metadata": {},
   "source": [
    "![alt text](./imgs/global-data-generated-annually.png \"Title\")"
   ]
  },
  {
   "cell_type": "markdown",
   "metadata": {},
   "source": [
    "<center>Global data generated in recent and coming years<a href=\"https://explodingtopics.com/blog/data-generated-per-day\"><sup>[1]</sup></a> </center>"
   ]
  },
  {
   "cell_type": "markdown",
   "metadata": {},
   "source": [
    "With an ever increasing amount of data, we require more automation of processes to handle information and in the process it has enabled us the following:\n",
    "1. Automated labeling of incoming new data (Classification)\n",
    "2. Content generation (Generative Models)\n",
    "3. Value estimation (Regression Models)"
   ]
  },
  {
   "cell_type": "markdown",
   "metadata": {},
   "source": [
    "## Automated labeling of incoming new data (Classification)"
   ]
  },
  {
   "cell_type": "markdown",
   "metadata": {},
   "source": [
    "The first one is referred to as \"classification\" in the Machine Learning literature. Given a new data point we want our algorithm to describe to us in an instant which of the pre-defined classes it belongs to. Picture a scenario of you wanting to be able to automatically label gooseberries and watermellons. You would gather data on your fruits such as width and heigth together with your knowledge of what fruit each pair of width and height is. You would then present this data to the algorithm and train it so it can learn these relationships.\n",
    "\n",
    "This technique belongs to the 'supervised learning' category, where models are simultaniously shown data with the attached label (category) they belong to in order to learn what are the distinct features of the classes.\n",
    "![alt text](./imgs/classification.png \"Gooseberry vs watermellons\")\n",
    "\n",
    "Our simplistic model assumes the entire universe only consists of watermellons which are big and gooseberries which are small. The variables sufficient for this type of model would be the height and width of the fruits. With only two variables, we wouldn't need too many examples of them to train a model to learn the difference between \"small\" and \"big\". \n",
    "\n",
    "Classification techniques assigning a label to a data point from a fixed-set, for example {0,1) where 0 is our \"gooseberry\" and 1 is our \"watermellon\".\n",
    "\n",
    "Example real world use-cases:\n",
    "- Credit scoring models - will this customer pay us back in the future ? (binary classification)\n",
    "- Is this device operating correctly ? (binary classification)\n",
    "- Image based automated produce classification on check-outs in supermarkets (multiclass)\n",
    "- Image based plant/mushroom identification (multiclass)\n",
    "\n",
    "and many more..."
   ]
  },
  {
   "cell_type": "markdown",
   "metadata": {},
   "source": [
    "## Content generation (Generative Models)"
   ]
  },
  {
   "cell_type": "markdown",
   "metadata": {},
   "source": [
    "Models trained on huge text sets are capable of doing amazing things. You have most likely by now heard about Chat GPT and its amazing features to generate text, provide advice, help out with technical tasks among others. The same goes for images - <a href=\"https://thispersondoesnotexist.com/\">This person does not exist</a> which allows you to generate images of faces of people who as the title suggest - are not real. To capture the facial features and be able to generate new ones requires working on large matrixes, large datasets and sufficient computational power. \n",
    "\n",
    "Below, a sample output from the website:"
   ]
  },
  {
   "cell_type": "markdown",
   "metadata": {},
   "source": [
    "<img src=\"./imgs/thispersondoesnotexist.jpg\" alt=\"Drawing\" style=\"width: 400px;\"/>\n"
   ]
  },
  {
   "cell_type": "markdown",
   "metadata": {},
   "source": [
    "Example use-cases around generative AI involves:\n",
    "- Content creation for marketing campaigns\n",
    "- In-game content (models, textures...)\n",
    "- Writing emails\n",
    "- Improving existing code\n",
    "- Transfering styles between art and images\n",
    "\n",
    "\n",
    "and many more ..."
   ]
  },
  {
   "cell_type": "markdown",
   "metadata": {},
   "source": [
    "## Value estimation (Regression Models)"
   ]
  },
  {
   "cell_type": "markdown",
   "metadata": {},
   "source": [
    "Imagine yourself in need of telling aproximately how many kg each one of your watermellons have. Your friend only allows you to borrow his/her scale for a limited amount of time. What do you do? You take notes on width and height(data) of each watermellon and weigh it on the scale (true values). Once your time is out and your friend needs the scale back, you are left with a table of width, height and the corresponding weight of each of your watermellons.  Hopefully you can see that the building blocks for this are not that dissimiliar from classification problems and regression modelling is another example of 'supervised learning' .\n",
    "\n",
    "Instead of assigning a datapoint (width,height) to a class (discrete number) (0 for \"gooseberry\" and 1 for \"watermellon\") we want to get a continuous value of its weight in kg, thus replacing the scale we no longer have access too and which can be assumed to be a equivalent of \"manual labour\".\n",
    "\n",
    "<img src=\"./imgs/regression_1.png\" alt=\"Drawing\" style=\"width: 400px;\"/>\n",
    "\n",
    "This class will focus on how to build such models, but instead of fruits we will be dealing with something more complex and therefore also more exciting - apartment prices. However to inspire you here are as usually some more use-cases:\n",
    "- Estimating remaining useful lifetime on machine components\n",
    "- Price elasticity modeling\n",
    "- Stock price predictions\n",
    "- Sales forecasting\n",
    "\n",
    "and as always - many more ..."
   ]
  },
  {
   "cell_type": "markdown",
   "metadata": {},
   "source": [
    "# Formalizing Regression"
   ]
  },
  {
   "cell_type": "markdown",
   "metadata": {},
   "source": [
    "## Terms and nomenclature"
   ]
  },
  {
   "cell_type": "markdown",
   "metadata": {},
   "source": [
    "$X$ - are our so called \"independent variables\" which are values we collect throughout our studies (width/height) in the watermellon examples above. Often referred to as \"variables\" (of a model). \n",
    "\n",
    "$y$ - is the \"dependent variable\" which is the one we want our model to predict. It \"depends\" on what the inputs to the model are - our $X$'s. In the example of the watermellon case it would be the true watermellon weight that we measured using the scale when collecting our data. Commonly referred to as the \"target variable\".\n",
    "\n",
    "$\\hat{y}$ - is the value estimated(predicted) by our model(s). It is pronounced as \"y-hat\". In our watermellon-case this would be the values we predicted using our model once we had to hand back the scale to our friend. These are commonly (and for avery good reason) referred to as \"predicted values\".\n",
    "\n",
    "$\\beta_0$ ... $\\beta_n$ - regression coefficients. Those are values estimated by model(s) that indicate how to transform the input variables ($X$) to make correct predictions. We will return to this after we introduce Linear Regression below."
   ]
  },
  {
   "cell_type": "markdown",
   "metadata": {},
   "source": [
    "Picture this example again:\n",
    "\n",
    "<img src=\"./imgs/regression_1.png\" alt=\"Drawing\" style=\"width: 400px;\"/>\n",
    "\n",
    "Somehow the model had to arrive at 10.65 kg. This was done by having a constant value $\\beta_0$ + $\\beta_1$ * $width$ + $\\beta_2$ * $height$ = $\\hat{y}$"
   ]
  },
  {
   "cell_type": "markdown",
   "metadata": {},
   "source": [
    "## Linear regression and Least Square Method"
   ]
  },
  {
   "cell_type": "markdown",
   "metadata": {},
   "source": [
    "For simplicity and easy of visualizing, let's assume that instead of width and height, we only collect one of the two - the width. By doing this we make a (reasonable) assumption that the two variables are positively correlated meaning that \"larger width follows larger height\" - the rounder our watermellons the less wrong we are.\n",
    "\n",
    "We are looking to find the equation for our model such that:\n",
    "\n",
    "$\\hat{y}$ = $\\beta_0$ + $\\beta_1$ * $width$\n",
    "\n",
    "To do this we will create a dataset of watermellon widths and weights and plot it."
   ]
  },
  {
   "cell_type": "code",
   "execution_count": 44,
   "metadata": {},
   "outputs": [
    {
     "name": "stdout",
     "output_type": "stream",
     "text": [
      "   width  weight\n",
      "0   57.0    9.70\n",
      "1   55.3    9.50\n",
      "2   54.2    9.50\n",
      "3   56.1    9.54\n",
      "4   61.0   10.65\n",
      "5   60.0    9.65\n",
      "6   56.5    9.90\n"
     ]
    },
    {
     "data": {
      "image/png": "[encoded data removed]",
      "text/plain": [
       "<Figure size 432x288 with 1 Axes>"
      ]
     },
     "metadata": {
      "needs_background": "light"
     },
     "output_type": "display_data"
    }
   ],
   "source": [
    "watermellons = pd.DataFrame({\"width\":[57,55.3,54.2,56.1,61,60,56.5],\n",
    "                            \"weight\": [9.7,9.5,9.5,9.54,10.65,9.65,9.9]\n",
    "                            })\n",
    "print(watermellons)\n",
    "plt = watermellons.plot.scatter(x='width',y='weight',c='darkgreen')"
   ]
  },
  {
   "cell_type": "code",
   "execution_count": 60,
   "metadata": {},
   "outputs": [
    {
     "data": {
      "text/plain": [
       "<AxesSubplot:xlabel='width', ylabel='weight'>"
      ]
     },
     "execution_count": 60,
     "metadata": {},
     "output_type": "execute_result"
    },
    {
     "data": {
      "image/png": "[encoded data removed]",
      "text/plain": [
       "<Figure size 432x288 with 1 Axes>"
      ]
     },
     "metadata": {
      "needs_background": "light"
     },
     "output_type": "display_data"
    }
   ],
   "source": [
    "plt = watermellons.plot.scatter(x='width',y='weight',c='darkgreen')\n",
    "plt.axvline(watermellons.width.mean(), color='g', linestyle='--')\n",
    "plt.axhline(watermellons.weight.mean(), color='r', linestyle='--')\n",
    "plt"
   ]
  },
  {
   "cell_type": "markdown",
   "metadata": {},
   "source": [
    "Drawing the lines of the average width and height gives us a point through which all the regression line will have to go through. In the next step, let's compute the differences between our observations and these lines for each respective dimension.\n",
    "\n",
    "We also add two more columns: \n",
    "1. $(width - meanwidth)^2$ \n",
    "2. $(width - meanwidth) * (weight - meanweight)$"
   ]
  },
  {
   "cell_type": "code",
   "execution_count": 62,
   "metadata": {},
   "outputs": [
    {
     "data": {
      "text/html": [
       "<div>\n",
       "<style scoped>\n",
       "    .dataframe tbody tr th:only-of-type {\n",
       "        vertical-align: middle;\n",
       "    }\n",
       "\n",
       "    .dataframe tbody tr th {\n",
       "        vertical-align: top;\n",
       "    }\n",
       "\n",
       "    .dataframe thead th {\n",
       "        text-align: right;\n",
       "    }\n",
       "</style>\n",
       "<table border=\"1\" class=\"dataframe\">\n",
       "  <thead>\n",
       "    <tr style=\"text-align: right;\">\n",
       "      <th></th>\n",
       "      <th>width</th>\n",
       "      <th>weight</th>\n",
       "      <th>width_minus_width_mean</th>\n",
       "      <th>weight_minus_weight_mean</th>\n",
       "      <th>width_minus_width_mean_squared</th>\n",
       "      <th>width_meanwidth_times_weight_meanweight</th>\n",
       "    </tr>\n",
       "  </thead>\n",
       "  <tbody>\n",
       "    <tr>\n",
       "      <th>0</th>\n",
       "      <td>57.0</td>\n",
       "      <td>9.70</td>\n",
       "      <td>-0.157143</td>\n",
       "      <td>-0.077143</td>\n",
       "      <td>0.024694</td>\n",
       "      <td>0.012122</td>\n",
       "    </tr>\n",
       "    <tr>\n",
       "      <th>1</th>\n",
       "      <td>55.3</td>\n",
       "      <td>9.50</td>\n",
       "      <td>-1.857143</td>\n",
       "      <td>-0.277143</td>\n",
       "      <td>3.448980</td>\n",
       "      <td>0.514694</td>\n",
       "    </tr>\n",
       "    <tr>\n",
       "      <th>2</th>\n",
       "      <td>54.2</td>\n",
       "      <td>9.50</td>\n",
       "      <td>-2.957143</td>\n",
       "      <td>-0.277143</td>\n",
       "      <td>8.744694</td>\n",
       "      <td>0.819551</td>\n",
       "    </tr>\n",
       "    <tr>\n",
       "      <th>3</th>\n",
       "      <td>56.1</td>\n",
       "      <td>9.54</td>\n",
       "      <td>-1.057143</td>\n",
       "      <td>-0.237143</td>\n",
       "      <td>1.117551</td>\n",
       "      <td>0.250694</td>\n",
       "    </tr>\n",
       "    <tr>\n",
       "      <th>4</th>\n",
       "      <td>61.0</td>\n",
       "      <td>10.65</td>\n",
       "      <td>3.842857</td>\n",
       "      <td>0.872857</td>\n",
       "      <td>14.767551</td>\n",
       "      <td>3.354265</td>\n",
       "    </tr>\n",
       "    <tr>\n",
       "      <th>5</th>\n",
       "      <td>60.0</td>\n",
       "      <td>9.65</td>\n",
       "      <td>2.842857</td>\n",
       "      <td>-0.127143</td>\n",
       "      <td>8.081837</td>\n",
       "      <td>-0.361449</td>\n",
       "    </tr>\n",
       "    <tr>\n",
       "      <th>6</th>\n",
       "      <td>56.5</td>\n",
       "      <td>9.90</td>\n",
       "      <td>-0.657143</td>\n",
       "      <td>0.122857</td>\n",
       "      <td>0.431837</td>\n",
       "      <td>-0.080735</td>\n",
       "    </tr>\n",
       "  </tbody>\n",
       "</table>\n",
       "</div>"
      ],
      "text/plain": [
       "   width  weight  width_minus_width_mean  weight_minus_weight_mean  \\\n",
       "0   57.0    9.70               -0.157143                 -0.077143   \n",
       "1   55.3    9.50               -1.857143                 -0.277143   \n",
       "2   54.2    9.50               -2.957143                 -0.277143   \n",
       "3   56.1    9.54               -1.057143                 -0.237143   \n",
       "4   61.0   10.65                3.842857                  0.872857   \n",
       "5   60.0    9.65                2.842857                 -0.127143   \n",
       "6   56.5    9.90               -0.657143                  0.122857   \n",
       "\n",
       "   width_minus_width_mean_squared  width_meanwidth_times_weight_meanweight  \n",
       "0                        0.024694                                 0.012122  \n",
       "1                        3.448980                                 0.514694  \n",
       "2                        8.744694                                 0.819551  \n",
       "3                        1.117551                                 0.250694  \n",
       "4                       14.767551                                 3.354265  \n",
       "5                        8.081837                                -0.361449  \n",
       "6                        0.431837                                -0.080735  "
      ]
     },
     "execution_count": 62,
     "metadata": {},
     "output_type": "execute_result"
    }
   ],
   "source": [
    "watermellons['width_minus_width_mean'] = watermellons['width'] - watermellons.width.mean()\n",
    "watermellons['weight_minus_weight_mean'] = watermellons['weight'] - watermellons.weight.mean()\n",
    "watermellons['width_minus_width_mean_squared'] = watermellons['width_minus_width_mean'] * watermellons['width_minus_width_mean']\n",
    "watermellons['width_meanwidth_times_weight_meanweight'] = watermellons['width_minus_width_mean'] * watermellons['weight_minus_weight_mean']\n",
    "\n",
    "watermellons"
   ]
  },
  {
   "cell_type": "markdown",
   "metadata": {},
   "source": [
    "What is $\\beta_1$ ?\n",
    "\n",
    "$\\beta_1$ is the slope of our line, and $\\beta_0$ is where the line intersects the y-axis. To find it we will need to divide the sum of the last two columns by each other. Where \"width_minus_width_mean_squared\" is the denominator and \"width_meanwidth_times_weight_meanweight\" the numerator"
   ]
  },
  {
   "cell_type": "code",
   "execution_count": 64,
   "metadata": {},
   "outputs": [
    {
     "data": {
      "text/plain": [
       "0.12314294631710368"
      ]
     },
     "execution_count": 64,
     "metadata": {},
     "output_type": "execute_result"
    }
   ],
   "source": [
    "watermellons['width_meanwidth_times_weight_meanweight'].sum() / watermellons['width_minus_width_mean_squared'].sum()"
   ]
  },
  {
   "cell_type": "markdown",
   "metadata": {},
   "source": [
    "0.12314294631710368 is therefore the slope of our line, $\\beta_1$."
   ]
  },
  {
   "cell_type": "markdown",
   "metadata": {},
   "source": [
    "How to get $\\beta_0$ ?\n",
    "\n",
    "watermellons.weight.mean() = $\\beta_0$ + $\\beta_1$ * watermellons.width.mean()\n",
    "\n",
    "Re-arranging the terms and we know that $\\beta_1$ is 0.12314.... :\n",
    "\n",
    "$\\beta_0$  = watermellons.weight.mean() -  0.12314294631710368 * watermellons.width.mean()\n"
   ]
  },
  {
   "cell_type": "code",
   "execution_count": 65,
   "metadata": {},
   "outputs": [
    {
     "data": {
      "text/plain": [
       "2.738643882646689"
      ]
     },
     "execution_count": 65,
     "metadata": {},
     "output_type": "execute_result"
    }
   ],
   "source": [
    "watermellons.weight.mean() - 0.12314294631710368 * watermellons.width.mean()"
   ]
  },
  {
   "cell_type": "code",
   "execution_count": 68,
   "metadata": {},
   "outputs": [],
   "source": [
    "b0 = 2.738643882646689\n",
    "b1 =0.12314294631710368"
   ]
  },
  {
   "cell_type": "markdown",
   "metadata": {},
   "source": [
    "Our final equation for our watermellon model is therefore:\n",
    "    \n",
    "$\\hat{y}$ = 2.738643882646689 + 0.12314294631710368 * $watermellonwidth$\n",
    "\n",
    "Let's try it on a watermellon whichs width is 58.5 cm\n",
    "    "
   ]
  },
  {
   "cell_type": "code",
   "execution_count": 67,
   "metadata": {},
   "outputs": [
    {
     "data": {
      "text/plain": [
       "9.942506242197254"
      ]
     },
     "execution_count": 67,
     "metadata": {},
     "output_type": "execute_result"
    }
   ],
   "source": [
    "2.738643882646689 + 0.12314294631710368 * 58.5"
   ]
  },
  {
   "cell_type": "code",
   "execution_count": 74,
   "metadata": {},
   "outputs": [
    {
     "data": {
      "text/plain": [
       "<AxesSubplot:xlabel='width', ylabel='weight'>"
      ]
     },
     "execution_count": 74,
     "metadata": {},
     "output_type": "execute_result"
    },
    {
     "data": {
      "image/png": "[encoded data removed]",
      "text/plain": [
       "<Figure size 432x288 with 1 Axes>"
      ]
     },
     "metadata": {
      "needs_background": "light"
     },
     "output_type": "display_data"
    }
   ],
   "source": [
    "plt = watermellons.plot.scatter(x='width',y='weight',c='darkgreen')\n",
    "plt.axvline(watermellons.width.mean(), color='g', linestyle='--')\n",
    "plt.axhline(watermellons.weight.mean(), color='r', linestyle='--')\n",
    "plt.axline((0, b0), slope=b1, color='C0')\n",
    "plt.set_xlim([50,70])\n",
    "plt.set_ylim([9,12])\n",
    "plt"
   ]
  },
  {
   "cell_type": "markdown",
   "metadata": {},
   "source": [
    "Example of footnote.<br>\n",
    "Example of footnote.<a name=\"cite_ref-2\"></a>[<sup>[2]</sup>](#cite_note-2)\n",
    "\n",
    "\n",
    "<a name=\"https://explodingtopics.com/blog/data-generated-per-day\">https://explodingtopics.com/blog/data-generated-per-day</a>1. [^](#https://explodingtopics.com/blog/data-generated-per-day) footnote 1<br>\n",
    "<a name=\"cite_note-2\"></a>2. [^](#cite_ref-2) footnote 2\n"
   ]
  },
  {
   "cell_type": "markdown",
   "metadata": {},
   "source": [
    "# History"
   ]
  },
  {
   "cell_type": "markdown",
   "metadata": {},
   "source": [
    "The earliest mention of the term \"regression\" comes from the 19th century where the polymath Sir Francis Galton created a model to describe the relationship between parents height and their children. \n",
    "\n",
    "For the curious reader: <a href=\"https://select-statistics.co.uk/blog/regression-to-the-mean-as-relevant-today-as-it-was-in-the-1900s/\">Galtons study</a>"
   ]
  },
  {
   "cell_type": "markdown",
   "metadata": {},
   "source": []
  }
 ],
 "metadata": {
  "kernelspec": {
   "display_name": "Python 3",
   "language": "python",
   "name": "python3"
  },
  "language_info": {
   "codemirror_mode": {
    "name": "ipython",
    "version": 3
   },
   "file_extension": ".py",
   "mimetype": "text/x-python",
   "name": "python",
   "nbconvert_exporter": "python",
   "pygments_lexer": "ipython3",
   "version": "3.7.6"
  },
  "toc": {
   "base_numbering": 1,
   "nav_menu": {},
   "number_sections": true,
   "sideBar": true,
   "skip_h1_title": false,
   "title_cell": "Table of Contents",
   "title_sidebar": "Contents",
   "toc_cell": false,
   "toc_position": {},
   "toc_section_display": true,
   "toc_window_display": false
  },
  "varInspector": {
   "cols": {
    "lenName": 16,
    "lenType": 16,
    "lenVar": 40
   },
   "kernels_config": {
    "python": {
     "delete_cmd_postfix": "",
     "delete_cmd_prefix": "del ",
     "library": "var_list.py",
     "varRefreshCmd": "print(var_dic_list())"
    },
    "r": {
     "delete_cmd_postfix": ") ",
     "delete_cmd_prefix": "rm(",
     "library": "var_list.r",
     "varRefreshCmd": "cat(var_dic_list()) "
    }
   },
   "types_to_exclude": [
    "module",
    "function",
    "builtin_function_or_method",
    "instance",
    "_Feature"
   ],
   "window_display": false
  }
 },
 "nbformat": 4,
 "nbformat_minor": 4
}
