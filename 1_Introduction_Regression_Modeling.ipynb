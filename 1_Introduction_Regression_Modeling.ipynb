{
 "cells": [
  {
   "cell_type": "code",
   "execution_count": 1,
   "metadata": {},
   "outputs": [],
   "source": [
    "import numpy as np\n",
    "import pandas as pd\n",
    "import random\n",
    "from sklearn.metrics import r2_score\n",
    "from sklearn.linear_model import LinearRegression\n"
   ]
  },
  {
   "cell_type": "markdown",
   "metadata": {},
   "source": [
    "# Learning outcomes"
   ]
  },
  {
   "cell_type": "markdown",
   "metadata": {},
   "source": [
    "Throughout this course we will cover:\n",
    "- Quick introduction on the different types of Machine Learning/AI use cases\n",
    "- What is regression and where can it be applied ?\n",
    "- Various techniques to perform regression modeling including linear and non-linear and why it matters for modeling\n",
    "- Python libraries in our toolbox\n",
    "- Object orientation for the simple case of our project\n",
    "- Facts about the dataset we will be working with some exploratory data analysis to help us understand it\n",
    "- Visualization of relationships between variables\n",
    "- Evaluation and model diagnostics"
   ]
  },
  {
   "cell_type": "markdown",
   "metadata": {},
   "source": [
    "# Introduction"
   ]
  },
  {
   "cell_type": "markdown",
   "metadata": {},
   "source": [
    "Machine Learning and AI has picked up in the last decade as we have generated exponentially more data leading to the surge in demand to make sense of complex relationships found within. "
   ]
  },
  {
   "cell_type": "markdown",
   "metadata": {},
   "source": [
    "![alt text](./imgs/global-data-generated-annually.png \"Title\")"
   ]
  },
  {
   "cell_type": "markdown",
   "metadata": {},
   "source": [
    "<center>Global data generated in recent and coming years<a href=\"https://explodingtopics.com/blog/data-generated-per-day\"><sup>[1]</sup></a> </center>"
   ]
  },
  {
   "cell_type": "markdown",
   "metadata": {},
   "source": [
    "With an ever increasing amount of data, we require more automation of processes to handle information and in the process it has enabled us to effectively do a few new things:\n",
    "1. Automated labeling of incoming new data (Classification)\n",
    "2. Content generation (Generative Models)\n",
    "3. Value estimation (Regression Models)"
   ]
  },
  {
   "cell_type": "markdown",
   "metadata": {},
   "source": [
    "## Automated labeling of incoming new data (Classification)"
   ]
  },
  {
   "cell_type": "markdown",
   "metadata": {},
   "source": [
    "The first one is referred to as \"classification\" in the Machine Learning literature. Given a new data point we want our algorithm to describe to us in an instant which of the pre-defined classes it belongs to. Picture a scenario of you wanting to be able to automatically label gooseberries and watermellons. You would gather data on your fruits such as width and heigth together with your knowledge of what fruit each pair of width and height is. You would then present this data to the algorithm and train it so it can learn these relationships.\n",
    "\n",
    "This technique belongs to the 'supervised learning' category, where models are simultaniously shown data with the attached label (category) they belong to in order to learn what are the distinct features of the classes.\n",
    "![alt text](./imgs/classification.png \"Gooseberry vs watermellons\")\n",
    "\n",
    "Our simplistic model assumes the entire universe only consists of watermellons which are big and gooseberries which are small. The variables sufficient for this type of model would be the height and width of the fruits. With only two variables, we wouldn't need too many examples of them to train a model to learn the difference between \"small\" and \"big\". \n",
    "\n",
    "Classification techniques assigning a label to a data point from a fixed-set, for example {0,1) where 0 is our \"gooseberry\" and 1 is our \"watermellon\".\n",
    "\n",
    "Example real world use-cases:\n",
    "- Credit scoring models - will this customer pay us back in the future ? (binary classification)\n",
    "- Is this device operating correctly ? (binary classification)\n",
    "- Image based automated produce classification on check-outs in supermarkets (multiclass)\n",
    "- Image based plant/mushroom identification (multiclass)\n",
    "\n",
    "and many more..."
   ]
  },
  {
   "cell_type": "markdown",
   "metadata": {},
   "source": [
    "## Content generation (Generative Models)"
   ]
  },
  {
   "cell_type": "markdown",
   "metadata": {},
   "source": [
    "Models trained on huge text sets are capable of doing amazing things. You have most likely by now heard about Chat GPT and its amazing features to generate text, provide advice, help out with technical tasks among others. The same goes for images - <a href=\"https://thispersondoesnotexist.com/\">This person does not exist</a> which allows you to generate images of faces of people who as the title suggest - are not real. To capture the facial features and be able to generate new ones requires working on large matrixes, large datasets and sufficient computational power. \n",
    "\n",
    "Below, a sample output from the website:"
   ]
  },
  {
   "cell_type": "markdown",
   "metadata": {},
   "source": [
    "<img src=\"./imgs/thispersondoesnotexist.jpg\" alt=\"Drawing\" style=\"width: 400px;\"/>\n"
   ]
  },
  {
   "cell_type": "markdown",
   "metadata": {},
   "source": [
    "Example use-cases around generative AI involves:\n",
    "- Content creation for marketing campaigns\n",
    "- In-game content (models, textures...)\n",
    "- Writing emails\n",
    "- Improving existing code\n",
    "- Transfering styles between art and images\n",
    "\n",
    "\n",
    "and many more ..."
   ]
  },
  {
   "cell_type": "markdown",
   "metadata": {},
   "source": [
    "## Value estimation (Regression Models)"
   ]
  },
  {
   "cell_type": "markdown",
   "metadata": {},
   "source": [
    "Imagine yourself in need of telling aproximately how many kg each one of your watermellons have. Your friend only allows you to borrow his/her scale for a limited amount of time. What do you do? You take notes on width and height(data) of each watermellon and weigh it on the scale (true values). Once your time is out and your friend needs the scale back, you are left with a table of width, height and the corresponding weight of each of your watermellons.  Hopefully you can see that the building blocks for this are not that dissimiliar from classification problems and regression modelling is another example of 'supervised learning' .\n",
    "\n",
    "Instead of assigning a datapoint (width,height) to a class (discrete number) (0 for \"gooseberry\" and 1 for \"watermellon\") we want to get a continuous value of its weight in kg, thus replacing the scale we no longer have access too and which can be assumed to be a equivalent of \"manual labour\".\n",
    "\n",
    "<img src=\"./imgs/regression_1.png\" alt=\"Drawing\" style=\"width: 400px;\"/>\n",
    "\n",
    "This class will focus on how to build such models, but instead of fruits we will be dealing with something more complex and therefore also more exciting - apartment prices. However to inspire you here are as usually some more use-cases:\n",
    "- Estimating remaining useful lifetime on machine components\n",
    "- Price elasticity modeling\n",
    "- Stock price predictions\n",
    "- Sales forecasting\n",
    "\n",
    "and as always - many more ..."
   ]
  },
  {
   "cell_type": "markdown",
   "metadata": {},
   "source": [
    "# Oreilly - part I "
   ]
  },
  {
   "cell_type": "markdown",
   "metadata": {},
   "source": [
    "# Formalizing Regression"
   ]
  },
  {
   "cell_type": "markdown",
   "metadata": {},
   "source": [
    "## Terms and nomenclature"
   ]
  },
  {
   "cell_type": "markdown",
   "metadata": {},
   "source": [
    "$X$ - are our so called \"independent variables\" which are values we collect throughout our studies (width/height) in the watermellon examples above. Often referred to as \"variables\" (of a model). \n",
    "\n",
    "$y$ - is the \"dependent variable\" which is the one we want our model to predict. It \"depends\" on what the inputs to the model are - our $X$'s. In the example of the watermellon case it would be the true watermellon weight that we measured using the scale when collecting our data. Commonly referred to as the \"target variable\".\n",
    "\n",
    "$\\hat{y}$ - Pronounced as \"y-hat\", is the value estimated(predicted) by our model(s). It differs from the true value $y$ in the sense that it is not the objective reality, but the subjective estimate of the model. In our watermellon-case this would be the values we predicted using our model once we had to hand back the scale to our friend. These are commonly (and for avery good reason) referred to as \"predicted values\".\n",
    "\n",
    "$\\beta_0$ ... $\\beta_n$ - regression coefficients. Those are values estimated by model(s) that indicate how to transform the input variables ($X$) to make correct predictions. We will return to this after we introduce Linear Regression below."
   ]
  },
  {
   "cell_type": "markdown",
   "metadata": {},
   "source": [
    "Picture this example again:\n",
    "\n",
    "<img src=\"./imgs/regression_1.png\" alt=\"Drawing\" style=\"width: 400px;\"/>\n",
    "\n",
    "Somehow the model had to arrive at 10.65 kg. This was done by having a constant value $\\beta_0$ added to a coefficient $\\beta_1$ multiplied with the measured $width$ added with the multiplied  $\\beta_2$ times the measured $height$ \n",
    "\n",
    "In \"mathematician\" this is:\n",
    "\n",
    "$\\hat{y}$ = $\\beta_0$ + $\\beta_1$ * $width$ + $\\beta_2$ * $height$"
   ]
  },
  {
   "cell_type": "markdown",
   "metadata": {},
   "source": [
    "## Linear regression and Least Square Method"
   ]
  },
  {
   "cell_type": "markdown",
   "metadata": {},
   "source": [
    "For simplicity and ease of visualizing, let's assume that instead of width and height, we only collect one of the two - the width. We therefore have one variable that we will use to predict the weight. By doing this we make a (reasonable) assumption that the two variables are positively correlated meaning that \"larger width follows larger height\" - the rounder our watermellons the less wrong we are.\n",
    "\n",
    "We are looking to find the equation for our model such that:\n",
    "\n",
    "$\\hat{y}$ = $\\beta_0$ + $\\beta_1$ * $width$\n",
    "\n",
    "To do this we will create a dataset of watermelon widths and weights and plot it."
   ]
  },
  {
   "cell_type": "code",
   "execution_count": 2,
   "metadata": {},
   "outputs": [
    {
     "name": "stdout",
     "output_type": "stream",
     "text": [
      "   width  weight\n",
      "0   57.0    9.70\n",
      "1   55.3    9.50\n",
      "2   54.2    9.50\n",
      "3   56.1    9.54\n",
      "4   61.0   10.65\n",
      "5   60.0    9.65\n",
      "6   56.5    9.90\n"
     ]
    },
    {
     "name": "stderr",
     "output_type": "stream",
     "text": [
      "\n",
      "Bad key text.latex.preview in file C:\\Users\\saox\\anaconda3\\lib\\site-packages\\matplotlib\\mpl-data\\stylelib\\_classic_test.mplstyle, line 123 ('text.latex.preview : False')\n",
      "You probably need to get an updated matplotlibrc file from\n",
      "https://github.com/matplotlib/matplotlib/blob/v3.5.3/matplotlibrc.template\n",
      "or from the matplotlib source distribution\n",
      "\n",
      "Bad key mathtext.fallback_to_cm in file C:\\Users\\saox\\anaconda3\\lib\\site-packages\\matplotlib\\mpl-data\\stylelib\\_classic_test.mplstyle, line 155 ('mathtext.fallback_to_cm : True  # When True, use symbols from the Computer Modern')\n",
      "You probably need to get an updated matplotlibrc file from\n",
      "https://github.com/matplotlib/matplotlib/blob/v3.5.3/matplotlibrc.template\n",
      "or from the matplotlib source distribution\n",
      "\n",
      "Bad key savefig.jpeg_quality in file C:\\Users\\saox\\anaconda3\\lib\\site-packages\\matplotlib\\mpl-data\\stylelib\\_classic_test.mplstyle, line 418 ('savefig.jpeg_quality: 95       # when a jpeg is saved, the default quality parameter.')\n",
      "You probably need to get an updated matplotlibrc file from\n",
      "https://github.com/matplotlib/matplotlib/blob/v3.5.3/matplotlibrc.template\n",
      "or from the matplotlib source distribution\n",
      "\n",
      "Bad key keymap.all_axes in file C:\\Users\\saox\\anaconda3\\lib\\site-packages\\matplotlib\\mpl-data\\stylelib\\_classic_test.mplstyle, line 466 ('keymap.all_axes : a                 # enable all axes')\n",
      "You probably need to get an updated matplotlibrc file from\n",
      "https://github.com/matplotlib/matplotlib/blob/v3.5.3/matplotlibrc.template\n",
      "or from the matplotlib source distribution\n",
      "\n",
      "Bad key animation.avconv_path in file C:\\Users\\saox\\anaconda3\\lib\\site-packages\\matplotlib\\mpl-data\\stylelib\\_classic_test.mplstyle, line 477 ('animation.avconv_path: avconv     # Path to avconv binary. Without full path')\n",
      "You probably need to get an updated matplotlibrc file from\n",
      "https://github.com/matplotlib/matplotlib/blob/v3.5.3/matplotlibrc.template\n",
      "or from the matplotlib source distribution\n",
      "\n",
      "Bad key animation.avconv_args in file C:\\Users\\saox\\anaconda3\\lib\\site-packages\\matplotlib\\mpl-data\\stylelib\\_classic_test.mplstyle, line 479 ('animation.avconv_args:            # Additional arguments to pass to avconv')\n",
      "You probably need to get an updated matplotlibrc file from\n",
      "https://github.com/matplotlib/matplotlib/blob/v3.5.3/matplotlibrc.template\n",
      "or from the matplotlib source distribution\n"
     ]
    },
    {
     "data": {
      "image/png": "[encoded data removed]",
      "text/plain": [
       "<Figure size 432x288 with 1 Axes>"
      ]
     },
     "metadata": {
      "needs_background": "light"
     },
     "output_type": "display_data"
    }
   ],
   "source": [
    "watermellons = pd.DataFrame({\"width\":[57,55.3,54.2,56.1,61,60,56.5],\n",
    "                            \"weight\": [9.7,9.5,9.5,9.54,10.65,9.65,9.9]\n",
    "                            })\n",
    "print(watermellons)\n",
    "plt = watermellons.plot.scatter(x='width',y='weight',c='darkgreen')"
   ]
  },
  {
   "cell_type": "code",
   "execution_count": 3,
   "metadata": {},
   "outputs": [
    {
     "data": {
      "text/plain": [
       "<AxesSubplot:xlabel='width', ylabel='weight'>"
      ]
     },
     "execution_count": 3,
     "metadata": {},
     "output_type": "execute_result"
    },
    {
     "data": {
      "image/png": "[encoded data removed]",
      "text/plain": [
       "<Figure size 432x288 with 1 Axes>"
      ]
     },
     "metadata": {
      "needs_background": "light"
     },
     "output_type": "display_data"
    }
   ],
   "source": [
    "plt = watermellons.plot.scatter(x='width',y='weight',c='darkgreen')\n",
    "plt.axvline(watermellons.width.mean(), color='g', linestyle='--')\n",
    "plt.axhline(watermellons.weight.mean(), color='r', linestyle='--')\n",
    "plt"
   ]
  },
  {
   "cell_type": "markdown",
   "metadata": {},
   "source": [
    "Drawing the lines of the average width and height gives us a point through which all the regression line will have to go through. In the next step, let's compute the differences between our observations and these lines for each respective dimension.\n",
    "\n",
    "We also add two more columns: \n",
    "1. $(width - meanwidth)^2$ \n",
    "2. $(width - meanwidth) * (weight - meanweight)$"
   ]
  },
  {
   "cell_type": "code",
   "execution_count": 4,
   "metadata": {},
   "outputs": [
    {
     "data": {
      "text/html": [
       "<div>\n",
       "<style scoped>\n",
       "    .dataframe tbody tr th:only-of-type {\n",
       "        vertical-align: middle;\n",
       "    }\n",
       "\n",
       "    .dataframe tbody tr th {\n",
       "        vertical-align: top;\n",
       "    }\n",
       "\n",
       "    .dataframe thead th {\n",
       "        text-align: right;\n",
       "    }\n",
       "</style>\n",
       "<table border=\"1\" class=\"dataframe\">\n",
       "  <thead>\n",
       "    <tr style=\"text-align: right;\">\n",
       "      <th></th>\n",
       "      <th>width</th>\n",
       "      <th>weight</th>\n",
       "      <th>width_minus_width_mean</th>\n",
       "      <th>weight_minus_weight_mean</th>\n",
       "      <th>width_minus_width_mean_squared</th>\n",
       "      <th>width_meanwidth_times_weight_meanweight</th>\n",
       "    </tr>\n",
       "  </thead>\n",
       "  <tbody>\n",
       "    <tr>\n",
       "      <th>0</th>\n",
       "      <td>57.0</td>\n",
       "      <td>9.70</td>\n",
       "      <td>-0.157143</td>\n",
       "      <td>-0.077143</td>\n",
       "      <td>0.024694</td>\n",
       "      <td>0.012122</td>\n",
       "    </tr>\n",
       "    <tr>\n",
       "      <th>1</th>\n",
       "      <td>55.3</td>\n",
       "      <td>9.50</td>\n",
       "      <td>-1.857143</td>\n",
       "      <td>-0.277143</td>\n",
       "      <td>3.448980</td>\n",
       "      <td>0.514694</td>\n",
       "    </tr>\n",
       "    <tr>\n",
       "      <th>2</th>\n",
       "      <td>54.2</td>\n",
       "      <td>9.50</td>\n",
       "      <td>-2.957143</td>\n",
       "      <td>-0.277143</td>\n",
       "      <td>8.744694</td>\n",
       "      <td>0.819551</td>\n",
       "    </tr>\n",
       "    <tr>\n",
       "      <th>3</th>\n",
       "      <td>56.1</td>\n",
       "      <td>9.54</td>\n",
       "      <td>-1.057143</td>\n",
       "      <td>-0.237143</td>\n",
       "      <td>1.117551</td>\n",
       "      <td>0.250694</td>\n",
       "    </tr>\n",
       "    <tr>\n",
       "      <th>4</th>\n",
       "      <td>61.0</td>\n",
       "      <td>10.65</td>\n",
       "      <td>3.842857</td>\n",
       "      <td>0.872857</td>\n",
       "      <td>14.767551</td>\n",
       "      <td>3.354265</td>\n",
       "    </tr>\n",
       "    <tr>\n",
       "      <th>5</th>\n",
       "      <td>60.0</td>\n",
       "      <td>9.65</td>\n",
       "      <td>2.842857</td>\n",
       "      <td>-0.127143</td>\n",
       "      <td>8.081837</td>\n",
       "      <td>-0.361449</td>\n",
       "    </tr>\n",
       "    <tr>\n",
       "      <th>6</th>\n",
       "      <td>56.5</td>\n",
       "      <td>9.90</td>\n",
       "      <td>-0.657143</td>\n",
       "      <td>0.122857</td>\n",
       "      <td>0.431837</td>\n",
       "      <td>-0.080735</td>\n",
       "    </tr>\n",
       "  </tbody>\n",
       "</table>\n",
       "</div>"
      ],
      "text/plain": [
       "   width  weight  width_minus_width_mean  weight_minus_weight_mean  \\\n",
       "0   57.0    9.70               -0.157143                 -0.077143   \n",
       "1   55.3    9.50               -1.857143                 -0.277143   \n",
       "2   54.2    9.50               -2.957143                 -0.277143   \n",
       "3   56.1    9.54               -1.057143                 -0.237143   \n",
       "4   61.0   10.65                3.842857                  0.872857   \n",
       "5   60.0    9.65                2.842857                 -0.127143   \n",
       "6   56.5    9.90               -0.657143                  0.122857   \n",
       "\n",
       "   width_minus_width_mean_squared  width_meanwidth_times_weight_meanweight  \n",
       "0                        0.024694                                 0.012122  \n",
       "1                        3.448980                                 0.514694  \n",
       "2                        8.744694                                 0.819551  \n",
       "3                        1.117551                                 0.250694  \n",
       "4                       14.767551                                 3.354265  \n",
       "5                        8.081837                                -0.361449  \n",
       "6                        0.431837                                -0.080735  "
      ]
     },
     "execution_count": 4,
     "metadata": {},
     "output_type": "execute_result"
    }
   ],
   "source": [
    "watermellons['width_minus_width_mean'] = watermellons['width'] - watermellons.width.mean()\n",
    "watermellons['weight_minus_weight_mean'] = watermellons['weight'] - watermellons.weight.mean()\n",
    "watermellons['width_minus_width_mean_squared'] = watermellons['width_minus_width_mean'] * watermellons['width_minus_width_mean']\n",
    "watermellons['width_meanwidth_times_weight_meanweight'] = watermellons['width_minus_width_mean'] * watermellons['weight_minus_weight_mean']\n",
    "\n",
    "watermellons"
   ]
  },
  {
   "cell_type": "markdown",
   "metadata": {},
   "source": [
    "What is $\\beta_1$ ?\n",
    "\n",
    "$\\beta_1$ is the slope of our line, and $\\beta_0$ is where the line intersects the y-axis. To find it we will need to divide the sum of the last two columns by each other. Where \"width_minus_width_mean_squared\" is the denominator and \"width_meanwidth_times_weight_meanweight\" the numerator"
   ]
  },
  {
   "cell_type": "code",
   "execution_count": 5,
   "metadata": {},
   "outputs": [
    {
     "data": {
      "text/plain": [
       "0.12314294631710368"
      ]
     },
     "execution_count": 5,
     "metadata": {},
     "output_type": "execute_result"
    }
   ],
   "source": [
    "watermellons['width_meanwidth_times_weight_meanweight'].sum() / watermellons['width_minus_width_mean_squared'].sum()"
   ]
  },
  {
   "cell_type": "markdown",
   "metadata": {},
   "source": [
    "0.12314294631710368 is therefore the slope of our line, $\\beta_1$."
   ]
  },
  {
   "cell_type": "markdown",
   "metadata": {},
   "source": [
    "How to get $\\beta_0$ ?\n",
    "\n",
    "watermellons.weight.mean() = $\\beta_0$ + $\\beta_1$ * watermellons.width.mean()\n",
    "\n",
    "Re-arranging the terms and we know that $\\beta_1$ is 0.12314.... :\n",
    "\n",
    "$\\beta_0$  = watermellons.weight.mean() -  0.12314294631710368 * watermellons.width.mean()\n"
   ]
  },
  {
   "cell_type": "code",
   "execution_count": 6,
   "metadata": {},
   "outputs": [
    {
     "data": {
      "text/plain": [
       "2.738643882646689"
      ]
     },
     "execution_count": 6,
     "metadata": {},
     "output_type": "execute_result"
    }
   ],
   "source": [
    "watermellons.weight.mean() - 0.12314294631710368 * watermellons.width.mean()"
   ]
  },
  {
   "cell_type": "code",
   "execution_count": 7,
   "metadata": {},
   "outputs": [],
   "source": [
    "b0 = 2.738643882646689\n",
    "b1 = 0.12314294631710368"
   ]
  },
  {
   "cell_type": "markdown",
   "metadata": {},
   "source": [
    "Our final equation for our watermellon model is therefore:\n",
    "    \n",
    "$\\hat{y}$ = 2.738643882646689 + 0.12314294631710368 * $watermellonwidth$\n",
    "\n",
    "or, simplier yet:\n",
    "\n",
    "$\\hat{y}$ = 2.738 + 0.123 * $watermellonwidth$\n",
    "\n",
    "\n",
    "This is the line that best describes our data as it minimizes the distance between itself and the observations.\n",
    "\n",
    "Let's try it on a watermellon which is 58.5 cm wide\n",
    "    "
   ]
  },
  {
   "cell_type": "code",
   "execution_count": 8,
   "metadata": {},
   "outputs": [
    {
     "data": {
      "text/plain": [
       "9.942506242197254"
      ]
     },
     "execution_count": 8,
     "metadata": {},
     "output_type": "execute_result"
    }
   ],
   "source": [
    "2.738643882646689 + 0.12314294631710368 * 58.5"
   ]
  },
  {
   "cell_type": "markdown",
   "metadata": {},
   "source": [
    "Same as above, but rounded decimals:"
   ]
  },
  {
   "cell_type": "code",
   "execution_count": 9,
   "metadata": {},
   "outputs": [
    {
     "data": {
      "text/plain": [
       "9.9335"
      ]
     },
     "execution_count": 9,
     "metadata": {},
     "output_type": "execute_result"
    }
   ],
   "source": [
    "2.738 + 0.123 * 58.5"
   ]
  },
  {
   "cell_type": "code",
   "execution_count": 10,
   "metadata": {},
   "outputs": [
    {
     "data": {
      "text/plain": [
       "<AxesSubplot:xlabel='width', ylabel='weight'>"
      ]
     },
     "execution_count": 10,
     "metadata": {},
     "output_type": "execute_result"
    },
    {
     "data": {
      "image/png": "[encoded data removed]",
      "text/plain": [
       "<Figure size 432x288 with 1 Axes>"
      ]
     },
     "metadata": {
      "needs_background": "light"
     },
     "output_type": "display_data"
    }
   ],
   "source": [
    "plt = watermellons.plot.scatter(x='width',y='weight',c='darkgreen')\n",
    "plt.axvline(watermellons.width.mean(), color='g', linestyle='--')\n",
    "plt.axhline(watermellons.weight.mean(), color='r', linestyle='--')\n",
    "plt.axline((0, b0), slope=b1, color='C0')\n",
    "plt.set_xlim([50,70])\n",
    "plt.set_ylim([9,12])\n",
    "plt"
   ]
  },
  {
   "cell_type": "markdown",
   "metadata": {},
   "source": [
    "IMPORTANT NOTE\n",
    "\n",
    "- $\\beta_1$ is the slope of the line and as thus allows us to interpret the model that for every 1 cm increase in width, the weight  increases by 0.12314294631710368 kg. \n",
    "\n",
    "- Linear regression is highly interpretable."
   ]
  },
  {
   "cell_type": "markdown",
   "metadata": {},
   "source": [
    "## Assumptions of Linear Regression"
   ]
  },
  {
   "cell_type": "markdown",
   "metadata": {},
   "source": [
    "In a real case scenario our linear regression model considers many more variables (independent variables) than just one as in the example above. "
   ]
  },
  {
   "cell_type": "markdown",
   "metadata": {},
   "source": [
    "$\\hat{y}$ = $\\beta_0$ + $\\beta_1$ * $x_1$ + $\\beta_2$ * $x_2$ + $\\beta_3$ * $x_3$ + $\\beta_4$ * $x_4$ + $\\beta_5$ * $x_5$ ... + $\\beta_n$ * $x_n$"
   ]
  },
  {
   "cell_type": "markdown",
   "metadata": {},
   "source": [
    "Since the model is a linear regression it follows a couple of assumptions. These assumptions will work like our checklist for the modeling task.\n",
    "\n",
    "\n",
    "1. Independent observations. Each datapoint is its own unique observation. \n",
    "2. No multicolinearity. The independent variables should not be highly correlated (0.7 threshold) with each other.\n",
    "3. Homoscedasticity. The residuals $y$-$\\hat{y}$ should be evenly distributed across all levels of the independent variables. No systematic increase or decrease should take place.\n",
    "4. Normality. The residuals $y$-$\\hat{y}$ are assumed to follow a normal distribution with a mean of 0 $\\mathcal{N}(0\\,\\sigma^{2})\\$\n",
    "5. No influential outliers. Since modeling is about capturing general trends, we do not want extreme observations to influence the model."
   ]
  },
  {
   "cell_type": "markdown",
   "metadata": {},
   "source": [
    "### Generate dataset"
   ]
  },
  {
   "cell_type": "code",
   "execution_count": 11,
   "metadata": {},
   "outputs": [
    {
     "data": {
      "text/html": [
       "<div>\n",
       "<style scoped>\n",
       "    .dataframe tbody tr th:only-of-type {\n",
       "        vertical-align: middle;\n",
       "    }\n",
       "\n",
       "    .dataframe tbody tr th {\n",
       "        vertical-align: top;\n",
       "    }\n",
       "\n",
       "    .dataframe thead th {\n",
       "        text-align: right;\n",
       "    }\n",
       "</style>\n",
       "<table border=\"1\" class=\"dataframe\">\n",
       "  <thead>\n",
       "    <tr style=\"text-align: right;\">\n",
       "      <th></th>\n",
       "      <th>Column1</th>\n",
       "      <th>Column2</th>\n",
       "      <th>Column3</th>\n",
       "      <th>Column4</th>\n",
       "      <th>Column5</th>\n",
       "      <th>Target</th>\n",
       "    </tr>\n",
       "  </thead>\n",
       "  <tbody>\n",
       "    <tr>\n",
       "      <th>0</th>\n",
       "      <td>0.374540</td>\n",
       "      <td>0.392310</td>\n",
       "      <td>0.971533</td>\n",
       "      <td>0.387826</td>\n",
       "      <td>0.871913</td>\n",
       "      <td>7.890446</td>\n",
       "    </tr>\n",
       "    <tr>\n",
       "      <th>1</th>\n",
       "      <td>0.950714</td>\n",
       "      <td>0.817180</td>\n",
       "      <td>0.331347</td>\n",
       "      <td>0.803538</td>\n",
       "      <td>0.576982</td>\n",
       "      <td>9.441438</td>\n",
       "    </tr>\n",
       "    <tr>\n",
       "      <th>2</th>\n",
       "      <td>0.731994</td>\n",
       "      <td>0.770014</td>\n",
       "      <td>0.482041</td>\n",
       "      <td>0.901774</td>\n",
       "      <td>0.345481</td>\n",
       "      <td>9.787884</td>\n",
       "    </tr>\n",
       "    <tr>\n",
       "      <th>3</th>\n",
       "      <td>0.598658</td>\n",
       "      <td>0.659717</td>\n",
       "      <td>0.196098</td>\n",
       "      <td>0.203473</td>\n",
       "      <td>0.803012</td>\n",
       "      <td>4.685769</td>\n",
       "    </tr>\n",
       "    <tr>\n",
       "      <th>4</th>\n",
       "      <td>0.156019</td>\n",
       "      <td>0.211998</td>\n",
       "      <td>0.610780</td>\n",
       "      <td>0.066974</td>\n",
       "      <td>0.540279</td>\n",
       "      <td>3.486639</td>\n",
       "    </tr>\n",
       "    <tr>\n",
       "      <th>...</th>\n",
       "      <td>...</td>\n",
       "      <td>...</td>\n",
       "      <td>...</td>\n",
       "      <td>...</td>\n",
       "      <td>...</td>\n",
       "      <td>...</td>\n",
       "    </tr>\n",
       "    <tr>\n",
       "      <th>1000</th>\n",
       "      <td>-8.429803</td>\n",
       "      <td>-4.586328</td>\n",
       "      <td>4.791265</td>\n",
       "      <td>-9.017032</td>\n",
       "      <td>-2.319619</td>\n",
       "      <td>-49.600356</td>\n",
       "    </tr>\n",
       "    <tr>\n",
       "      <th>1001</th>\n",
       "      <td>7.625161</td>\n",
       "      <td>-2.590171</td>\n",
       "      <td>-8.267605</td>\n",
       "      <td>-6.178757</td>\n",
       "      <td>7.087990</td>\n",
       "      <td>84.151290</td>\n",
       "    </tr>\n",
       "    <tr>\n",
       "      <th>1002</th>\n",
       "      <td>-8.442420</td>\n",
       "      <td>1.378428</td>\n",
       "      <td>3.383083</td>\n",
       "      <td>5.810272</td>\n",
       "      <td>4.979980</td>\n",
       "      <td>16.317768</td>\n",
       "    </tr>\n",
       "    <tr>\n",
       "      <th>1003</th>\n",
       "      <td>4.136072</td>\n",
       "      <td>7.634179</td>\n",
       "      <td>-1.793926</td>\n",
       "      <td>-0.920823</td>\n",
       "      <td>-4.553692</td>\n",
       "      <td>6.696042</td>\n",
       "    </tr>\n",
       "    <tr>\n",
       "      <th>1004</th>\n",
       "      <td>8.400763</td>\n",
       "      <td>8.838112</td>\n",
       "      <td>-0.585980</td>\n",
       "      <td>-3.966755</td>\n",
       "      <td>-7.649963</td>\n",
       "      <td>19.278720</td>\n",
       "    </tr>\n",
       "  </tbody>\n",
       "</table>\n",
       "<p>1005 rows × 6 columns</p>\n",
       "</div>"
      ],
      "text/plain": [
       "       Column1   Column2   Column3   Column4   Column5     Target\n",
       "0     0.374540  0.392310  0.971533  0.387826  0.871913   7.890446\n",
       "1     0.950714  0.817180  0.331347  0.803538  0.576982   9.441438\n",
       "2     0.731994  0.770014  0.482041  0.901774  0.345481   9.787884\n",
       "3     0.598658  0.659717  0.196098  0.203473  0.803012   4.685769\n",
       "4     0.156019  0.211998  0.610780  0.066974  0.540279   3.486639\n",
       "...        ...       ...       ...       ...       ...        ...\n",
       "1000 -8.429803 -4.586328  4.791265 -9.017032 -2.319619 -49.600356\n",
       "1001  7.625161 -2.590171 -8.267605 -6.178757  7.087990  84.151290\n",
       "1002 -8.442420  1.378428  3.383083  5.810272  4.979980  16.317768\n",
       "1003  4.136072  7.634179 -1.793926 -0.920823 -4.553692   6.696042\n",
       "1004  8.400763  8.838112 -0.585980 -3.966755 -7.649963  19.278720\n",
       "\n",
       "[1005 rows x 6 columns]"
      ]
     },
     "execution_count": 11,
     "metadata": {},
     "output_type": "execute_result"
    }
   ],
   "source": [
    "np.random.seed(42)\n",
    "\n",
    "# Generate the data\n",
    "num_samples = 1000\n",
    "\n",
    "# Independent variables\n",
    "column1 = np.random.rand(num_samples)\n",
    "column2 = column1 + np.random.normal(0, 0.1, num_samples)\n",
    "column3 = np.random.rand(num_samples)\n",
    "column4 = np.random.rand(num_samples) \n",
    "column5 = np.random.rand(num_samples)\n",
    "\n",
    "# Dependent variable (target)\n",
    "target = 2 * column1 + 3 * column2 + 4 * column3 + 5 * column4 + np.random.normal(0, 0.5, num_samples)\n",
    "\n",
    "# Create the DataFrame\n",
    "df = pd.DataFrame({'Column1': column1,\n",
    "                   'Column2': column2,\n",
    "                   'Column3': column3,\n",
    "                   'Column4': column4,\n",
    "                   'Column5': column5,\n",
    "                   'Target': target})\n",
    "\n",
    "num_extreme_obs = 5\n",
    "\n",
    "extreme_column1 = np.random.uniform(low=-10, high=10, size=num_extreme_obs)\n",
    "extreme_column2 = np.random.uniform(low=-10, high=10, size=num_extreme_obs)\n",
    "extreme_column3 = np.random.uniform(low=-10, high=10, size=num_extreme_obs)\n",
    "extreme_column4 = np.random.uniform(low=-10, high=10, size=num_extreme_obs)\n",
    "extreme_column5 = np.random.uniform(low=-10, high=10, size=num_extreme_obs)\n",
    "extreme_target = np.random.uniform(low=-100, high=100, size=num_extreme_obs)\n",
    "\n",
    "# Create the extreme observations DataFrame\n",
    "obs = pd.DataFrame({'Column1': extreme_column1,\n",
    "                    'Column2': extreme_column2,\n",
    "                    'Column3': extreme_column3,\n",
    "                    'Column4': extreme_column4,\n",
    "                    'Column5': extreme_column5,\n",
    "                    'Target': extreme_target})\n",
    "\n",
    "# Append the extreme observations to the original DataFrame\n",
    "df = pd.concat([df, obs], ignore_index=True)\n",
    "df"
   ]
  },
  {
   "cell_type": "markdown",
   "metadata": {},
   "source": [
    "### Independence"
   ]
  },
  {
   "cell_type": "markdown",
   "metadata": {},
   "source": [
    "In our toy example we can assume we didn't collect the same observation twice over different periods of time."
   ]
  },
  {
   "cell_type": "markdown",
   "metadata": {},
   "source": [
    "### No multicolinearity - anything above 0.7 or below -0.7 ?"
   ]
  },
  {
   "cell_type": "code",
   "execution_count": 12,
   "metadata": {},
   "outputs": [
    {
     "data": {
      "image/png": "[encoded data removed]",
      "text/plain": [
       "<Figure size 576x432 with 2 Axes>"
      ]
     },
     "metadata": {
      "needs_background": "light"
     },
     "output_type": "display_data"
    }
   ],
   "source": [
    "import seaborn as sns\n",
    "import matplotlib.pyplot as plt\n",
    "\n",
    "def corr_matrix(df):\n",
    "    # Calculate the correlation matrix\n",
    "    corr_matrix = df.corr()\n",
    "\n",
    "    # Set up the figure and axes\n",
    "    fig, ax = plt.subplots(figsize=(8, 6))\n",
    "\n",
    "    # Create the correlation matrix heatmap\n",
    "    sns.heatmap(corr_matrix, annot=True, cmap='coolwarm', linewidths=0.5, ax=ax)\n",
    "\n",
    "    # Set the title\n",
    "    ax.set_title('Correlation Matrix')\n",
    "\n",
    "    # Rotate x-axis labels for better visibility\n",
    "    plt.xticks(rotation=45)\n",
    "\n",
    "    # Show the plot\n",
    "    plt.show()\n",
    "    \n",
    "corr_matrix(df)"
   ]
  },
  {
   "cell_type": "markdown",
   "metadata": {},
   "source": [
    "### Normality"
   ]
  },
  {
   "cell_type": "code",
   "execution_count": 13,
   "metadata": {},
   "outputs": [
    {
     "name": "stdout",
     "output_type": "stream",
     "text": [
      "Residuals are not normally distributed (reject H0)\n"
     ]
    }
   ],
   "source": [
    "from scipy import stats\n",
    "\n",
    "def test_normality(df):\n",
    "    # Calculate the residuals\n",
    "    X = df[['Column1', 'Column2', 'Column3', 'Column4', 'Column5']]\n",
    "    y = df['Target']\n",
    "    reg = LinearRegression().fit(X, y)\n",
    "    y_pred = reg.predict(X)\n",
    "    residuals = y - y_pred\n",
    "\n",
    "    # Perform Shapiro-Wilk test for normality\n",
    "    statistic, p_value = stats.shapiro(residuals)\n",
    "\n",
    "    # Set the significance level\n",
    "    alpha = 0.05\n",
    "\n",
    "    # Check the null hypothesis\n",
    "    if p_value > alpha:\n",
    "        print(\"Residuals are normally distributed (fail to reject H0)\")\n",
    "    else:\n",
    "        print(\"Residuals are not normally distributed (reject H0)\")\n",
    "        \n",
    "test_normality(df)"
   ]
  },
  {
   "cell_type": "markdown",
   "metadata": {},
   "source": [
    "### No influential outliers"
   ]
  },
  {
   "cell_type": "code",
   "execution_count": 14,
   "metadata": {},
   "outputs": [
    {
     "data": {
      "text/plain": [
       "Column1    0.491091\n",
       "Column2    0.508279\n",
       "Column3    0.487984\n",
       "Column4    0.476405\n",
       "Column5    0.491908\n",
       "Target     6.940798\n",
       "dtype: float64"
      ]
     },
     "execution_count": 14,
     "metadata": {},
     "output_type": "execute_result"
    }
   ],
   "source": [
    "df.mean()"
   ]
  },
  {
   "cell_type": "code",
   "execution_count": 15,
   "metadata": {},
   "outputs": [
    {
     "data": {
      "text/plain": [
       "Column1    0.497249\n",
       "Column2    0.504692\n",
       "Column3    0.487628\n",
       "Column4    0.487834\n",
       "Column5    0.485230\n",
       "Target     6.883165\n",
       "dtype: float64"
      ]
     },
     "execution_count": 15,
     "metadata": {},
     "output_type": "execute_result"
    }
   ],
   "source": [
    "df.median()"
   ]
  },
  {
   "cell_type": "code",
   "execution_count": 16,
   "metadata": {},
   "outputs": [
    {
     "data": {
      "text/plain": [
       "Column1     8.400763\n",
       "Column2     8.838112\n",
       "Column3     4.791265\n",
       "Column4     5.810272\n",
       "Column5     7.087990\n",
       "Target     84.151290\n",
       "dtype: float64"
      ]
     },
     "execution_count": 16,
     "metadata": {},
     "output_type": "execute_result"
    }
   ],
   "source": [
    "df.max()"
   ]
  },
  {
   "cell_type": "code",
   "execution_count": 17,
   "metadata": {},
   "outputs": [
    {
     "data": {
      "text/plain": [
       "Column1    -8.442420\n",
       "Column2    -4.586328\n",
       "Column3    -8.267605\n",
       "Column4    -9.017032\n",
       "Column5    -7.649963\n",
       "Target    -49.600356\n",
       "dtype: float64"
      ]
     },
     "execution_count": 17,
     "metadata": {},
     "output_type": "execute_result"
    }
   ],
   "source": [
    "df.min()"
   ]
  },
  {
   "cell_type": "code",
   "execution_count": 18,
   "metadata": {},
   "outputs": [],
   "source": [
    "# Set the z-score threshold for outlier detection\n",
    "zscore_threshold = 2.5\n",
    "\n",
    "# Calculate the z-scores for each column in the DataFrame\n",
    "z_scores = (df - df.mean()) / df.std()\n",
    "\n",
    "# Find outliers by checking if the absolute z-score exceeds the threshold\n",
    "outliers = np.where(np.abs(z_scores) > zscore_threshold)\n",
    "\n",
    "# Remove outliers from the DataFrame\n",
    "df_no_outliers = df.drop(outliers[0])"
   ]
  },
  {
   "cell_type": "code",
   "execution_count": 19,
   "metadata": {},
   "outputs": [
    {
     "data": {
      "text/plain": [
       "<AxesSubplot:xlabel='Column1', ylabel='Column3'>"
      ]
     },
     "execution_count": 19,
     "metadata": {},
     "output_type": "execute_result"
    },
    {
     "data": {
      "image/png": "[encoded data removed]",
      "text/plain": [
       "<Figure size 432x288 with 1 Axes>"
      ]
     },
     "metadata": {
      "needs_background": "light"
     },
     "output_type": "display_data"
    }
   ],
   "source": [
    "df.plot.scatter(x='Column1',y='Column3')"
   ]
  },
  {
   "cell_type": "markdown",
   "metadata": {},
   "source": [
    "### Homoscedasticity"
   ]
  },
  {
   "cell_type": "code",
   "execution_count": 20,
   "metadata": {},
   "outputs": [
    {
     "data": {
      "image/png": "[encoded data removed]",
      "text/plain": [
       "<Figure size 576x432 with 1 Axes>"
      ]
     },
     "metadata": {
      "needs_background": "light"
     },
     "output_type": "display_data"
    }
   ],
   "source": [
    "def homoscedasticity(df):\n",
    "    # Fit the linear regression model and obtain residuals\n",
    "    X = df[['Column1', 'Column2', 'Column3', 'Column4', 'Column5']]\n",
    "    y = df['Target']\n",
    "    reg = LinearRegression().fit(X, y)\n",
    "    y_pred = reg.predict(X)\n",
    "    residuals = y - y_pred\n",
    "\n",
    "    # Plot the residuals against the predicted values\n",
    "    fig, ax = plt.subplots(figsize=(8, 6))\n",
    "    ax.scatter(y_pred, residuals)\n",
    "    ax.axhline(y=0, color='r', linestyle='--')  # Add a horizontal line at y=0\n",
    "\n",
    "    # Set labels and title\n",
    "    ax.set_xlabel('Predicted Values')\n",
    "    ax.set_ylabel('Residuals')\n",
    "    ax.set_title('Residuals vs Predicted Values')\n",
    "\n",
    "    # Show the plot\n",
    "    plt.show()\n",
    "\n",
    "homoscedasticity(df)"
   ]
  },
  {
   "cell_type": "markdown",
   "metadata": {},
   "source": [
    "### Let's try that again now"
   ]
  },
  {
   "cell_type": "markdown",
   "metadata": {},
   "source": [
    "#### No multicolinearity"
   ]
  },
  {
   "cell_type": "code",
   "execution_count": 21,
   "metadata": {},
   "outputs": [
    {
     "data": {
      "image/png": "[encoded data removed]",
      "text/plain": [
       "<Figure size 576x432 with 2 Axes>"
      ]
     },
     "metadata": {
      "needs_background": "light"
     },
     "output_type": "display_data"
    }
   ],
   "source": [
    "#before\n",
    "corr_matrix(df)"
   ]
  },
  {
   "cell_type": "code",
   "execution_count": 22,
   "metadata": {},
   "outputs": [
    {
     "data": {
      "image/png": "[encoded data removed]",
      "text/plain": [
       "<Figure size 576x432 with 2 Axes>"
      ]
     },
     "metadata": {
      "needs_background": "light"
     },
     "output_type": "display_data"
    }
   ],
   "source": [
    "#after\n",
    "corr_matrix(df_no_outliers)"
   ]
  },
  {
   "cell_type": "markdown",
   "metadata": {},
   "source": [
    "Action: Remove one of the correlated variables or combine them together into one."
   ]
  },
  {
   "cell_type": "markdown",
   "metadata": {},
   "source": [
    "#### Homoscedasticity"
   ]
  },
  {
   "cell_type": "code",
   "execution_count": 23,
   "metadata": {},
   "outputs": [
    {
     "data": {
      "image/png": "[encoded data removed]",
      "text/plain": [
       "<Figure size 576x432 with 1 Axes>"
      ]
     },
     "metadata": {
      "needs_background": "light"
     },
     "output_type": "display_data"
    }
   ],
   "source": [
    "#before\n",
    "homoscedasticity(df)"
   ]
  },
  {
   "cell_type": "code",
   "execution_count": 24,
   "metadata": {},
   "outputs": [
    {
     "data": {
      "image/png": "[encoded data removed]",
      "text/plain": [
       "<Figure size 576x432 with 1 Axes>"
      ]
     },
     "metadata": {
      "needs_background": "light"
     },
     "output_type": "display_data"
    }
   ],
   "source": [
    "#after\n",
    "homoscedasticity(df_no_outliers)"
   ]
  },
  {
   "cell_type": "markdown",
   "metadata": {},
   "source": [
    "Action: With outliers removed we can observe the pattern better and notice that there is no systematic decrease or increase across the different predicted values. We do not need to do anything. \n",
    "\n",
    "In case this wouldn't be the case we'd have to include a new variable to help explain the systematic increase/decrease, create new features, transform features accounting for non-linear effects.\n",
    "\n",
    "Example of how heteroscedasticity looks like:\n",
    "\n",
    "<img src=\"imgs/heteroscedasticity.png\" style=\"width: 400px;\">"
   ]
  },
  {
   "cell_type": "markdown",
   "metadata": {},
   "source": [
    "Another example "
   ]
  },
  {
   "cell_type": "code",
   "execution_count": 25,
   "metadata": {},
   "outputs": [
    {
     "data": {
      "text/html": [
       "<div>\n",
       "<style scoped>\n",
       "    .dataframe tbody tr th:only-of-type {\n",
       "        vertical-align: middle;\n",
       "    }\n",
       "\n",
       "    .dataframe tbody tr th {\n",
       "        vertical-align: top;\n",
       "    }\n",
       "\n",
       "    .dataframe thead th {\n",
       "        text-align: right;\n",
       "    }\n",
       "</style>\n",
       "<table border=\"1\" class=\"dataframe\">\n",
       "  <thead>\n",
       "    <tr style=\"text-align: right;\">\n",
       "      <th></th>\n",
       "      <th>income</th>\n",
       "      <th>spending</th>\n",
       "      <th>high_net_individual</th>\n",
       "    </tr>\n",
       "  </thead>\n",
       "  <tbody>\n",
       "    <tr>\n",
       "      <th>0</th>\n",
       "      <td>385243</td>\n",
       "      <td>42921</td>\n",
       "      <td>0</td>\n",
       "    </tr>\n",
       "    <tr>\n",
       "      <th>1</th>\n",
       "      <td>167026</td>\n",
       "      <td>36255</td>\n",
       "      <td>0</td>\n",
       "    </tr>\n",
       "    <tr>\n",
       "      <th>2</th>\n",
       "      <td>436123</td>\n",
       "      <td>25619</td>\n",
       "      <td>0</td>\n",
       "    </tr>\n",
       "    <tr>\n",
       "      <th>3</th>\n",
       "      <td>95580</td>\n",
       "      <td>155466</td>\n",
       "      <td>1</td>\n",
       "    </tr>\n",
       "    <tr>\n",
       "      <th>4</th>\n",
       "      <td>66663</td>\n",
       "      <td>41052</td>\n",
       "      <td>0</td>\n",
       "    </tr>\n",
       "  </tbody>\n",
       "</table>\n",
       "</div>"
      ],
      "text/plain": [
       "   income  spending  high_net_individual\n",
       "0  385243     42921                    0\n",
       "1  167026     36255                    0\n",
       "2  436123     25619                    0\n",
       "3   95580    155466                    1\n",
       "4   66663     41052                    0"
      ]
     },
     "execution_count": 25,
     "metadata": {},
     "output_type": "execute_result"
    }
   ],
   "source": [
    "import pandas as pd\n",
    "import random\n",
    "\n",
    "random.seed(42)\n",
    "\n",
    "# Generate random data for the dataset\n",
    "data = []\n",
    "for _ in range(1000):\n",
    "    income = random.randint(50000, 500000)\n",
    "    high_net = random.choice([0, 1])  # Randomly assign high net status\n",
    "\n",
    "    # Generate spending based on high net status using Gaussian distributions\n",
    "    if high_net:\n",
    "        spending = int(max(100000, random.gauss(250000, 50000)))\n",
    "    else:\n",
    "        spending = int(max(5000, random.gauss(35000, 10000)))\n",
    "\n",
    "    data.append([income, spending, high_net])\n",
    "\n",
    "# Create the pandas DataFrame\n",
    "columns = ['income', 'spending', 'high_net_individual']\n",
    "hni_df = pd.DataFrame(data, columns=columns)\n",
    "\n",
    "# Display the first few rows of the dataset\n",
    "hni_df.head()"
   ]
  },
  {
   "cell_type": "code",
   "execution_count": 26,
   "metadata": {},
   "outputs": [
    {
     "data": {
      "image/png": "[encoded data removed]",
      "text/plain": [
       "<Figure size 576x432 with 1 Axes>"
      ]
     },
     "metadata": {
      "needs_background": "light"
     },
     "output_type": "display_data"
    }
   ],
   "source": [
    "X = hni_df[['income']] #,'high_net_individual'\n",
    "y = hni_df['spending']\n",
    "reg = LinearRegression().fit(X, y)\n",
    "y_pred = reg.predict(X)\n",
    "residuals = y - y_pred\n",
    "\n",
    "# Plot the residuals against the predicted values\n",
    "fig, ax = plt.subplots(figsize=(8, 6))\n",
    "ax.scatter(y_pred, residuals)\n",
    "ax.axhline(y=0, color='r', linestyle='--')  # Add a horizontal line at y=0\n",
    "\n",
    "# Set labels and title\n",
    "ax.set_xlabel('Predicted Values')\n",
    "ax.set_ylabel('Residuals')\n",
    "ax.set_title('Residuals vs Predicted Values')\n",
    "\n",
    "# Show the plot\n",
    "plt.show()"
   ]
  },
  {
   "cell_type": "markdown",
   "metadata": {},
   "source": [
    "#### Normality"
   ]
  },
  {
   "cell_type": "code",
   "execution_count": 27,
   "metadata": {},
   "outputs": [
    {
     "name": "stdout",
     "output_type": "stream",
     "text": [
      "Residuals are not normally distributed (reject H0)\n"
     ]
    }
   ],
   "source": [
    "#before\n",
    "test_normality(df)"
   ]
  },
  {
   "cell_type": "code",
   "execution_count": 28,
   "metadata": {},
   "outputs": [
    {
     "name": "stdout",
     "output_type": "stream",
     "text": [
      "Residuals are normally distributed (fail to reject H0)\n"
     ]
    }
   ],
   "source": [
    "#after\n",
    "test_normality(df_no_outliers)"
   ]
  },
  {
   "cell_type": "markdown",
   "metadata": {},
   "source": [
    "Action: None needed. With the removal of outliers the distributions are normal."
   ]
  },
  {
   "cell_type": "markdown",
   "metadata": {},
   "source": [
    "#### No influential outliers"
   ]
  },
  {
   "cell_type": "code",
   "execution_count": 29,
   "metadata": {},
   "outputs": [
    {
     "data": {
      "text/plain": [
       "<AxesSubplot:xlabel='Column1', ylabel='Column3'>"
      ]
     },
     "execution_count": 29,
     "metadata": {},
     "output_type": "execute_result"
    },
    {
     "data": {
      "image/png": "[encoded data removed]",
      "text/plain": [
       "<Figure size 432x288 with 1 Axes>"
      ]
     },
     "metadata": {
      "needs_background": "light"
     },
     "output_type": "display_data"
    }
   ],
   "source": [
    "#before\n",
    "df.plot.scatter(x='Column1',y='Column3')"
   ]
  },
  {
   "cell_type": "code",
   "execution_count": 30,
   "metadata": {},
   "outputs": [
    {
     "data": {
      "text/plain": [
       "<AxesSubplot:xlabel='Column1', ylabel='Column3'>"
      ]
     },
     "execution_count": 30,
     "metadata": {},
     "output_type": "execute_result"
    },
    {
     "data": {
      "image/png": "[encoded data removed]",
      "text/plain": [
       "<Figure size 432x288 with 1 Axes>"
      ]
     },
     "metadata": {
      "needs_background": "light"
     },
     "output_type": "display_data"
    }
   ],
   "source": [
    "#after\n",
    "df_no_outliers.plot.scatter(x='Column1',y='Column3')"
   ]
  },
  {
   "cell_type": "markdown",
   "metadata": {},
   "source": [
    "Action: None. We have removed the outliers."
   ]
  },
  {
   "cell_type": "markdown",
   "metadata": {},
   "source": [
    "### Compare the linear regression equations"
   ]
  },
  {
   "cell_type": "code",
   "execution_count": 31,
   "metadata": {},
   "outputs": [],
   "source": [
    "naive_model = LinearRegression().fit(df[['Column1', 'Column2', 'Column3', 'Column4', 'Column5']], df['Target'])\n",
    "naive_model_no_outliers = LinearRegression().fit(df_no_outliers[['Column1', 'Column2', 'Column3', 'Column4', 'Column5']], df_no_outliers['Target'])\n",
    "better_model = LinearRegression().fit(df_no_outliers[['Column1', 'Column3', 'Column4', 'Column5']], df_no_outliers['Target'])\n",
    "best_model_no_outliers = LinearRegression().fit(df_no_outliers[['Column1', 'Column3', 'Column4']], df_no_outliers['Target'])\n",
    "best_model = LinearRegression().fit(df[['Column1', 'Column3', 'Column4']], df['Target'])"
   ]
  },
  {
   "cell_type": "code",
   "execution_count": 32,
   "metadata": {},
   "outputs": [],
   "source": [
    "def print_equation(model,X):\n",
    "    coefficients = model.coef_\n",
    "    intercept = model.intercept_\n",
    "\n",
    "    # Create the equation string\n",
    "    equation = 'Target = {:.2f}'.format(intercept)\n",
    "    for i, coef in enumerate(coefficients):\n",
    "        equation += ' + {:.2f} * {}'.format(coef, X.columns[i])\n",
    "\n",
    "    # Print the equation\n",
    "    print(\"Linear Regression Equation:\")\n",
    "    print(equation)\n",
    "    \n",
    "    \n",
    "def rsquared(df,model,variables):\n",
    "    return round(r2_score(df['Target'], model.predict(df[variables])),2)"
   ]
  },
  {
   "cell_type": "markdown",
   "metadata": {},
   "source": [
    "### Results and R-squared"
   ]
  },
  {
   "cell_type": "markdown",
   "metadata": {},
   "source": [
    "<img src=\"imgs/metric_r2.png\" style=\"width: 200px;\">"
   ]
  },
  {
   "cell_type": "code",
   "execution_count": 33,
   "metadata": {},
   "outputs": [],
   "source": [
    "# Pseudo-code\n",
    "# mean_y_true = np.mean(y_true)\n",
    "# tss = np.sum((y_true - mean_y_true)**2)\n",
    "# rss = np.sum((y_true - y_pred)**2)"
   ]
  },
  {
   "cell_type": "markdown",
   "metadata": {},
   "source": [
    "Measures how well can the model explain the variance in the data = how well it describes it/predicts. \n",
    "\n",
    "- 0 indicates that the model has 0 power of explanation\n",
    "- 1 indicates the model can explain the entire variability"
   ]
  },
  {
   "cell_type": "markdown",
   "metadata": {},
   "source": [
    "Example:"
   ]
  },
  {
   "cell_type": "code",
   "execution_count": 34,
   "metadata": {},
   "outputs": [
    {
     "data": {
      "image/png": "[encoded data removed]",
      "text/plain": [
       "<Figure size 864x360 with 2 Axes>"
      ]
     },
     "metadata": {
      "needs_background": "light"
     },
     "output_type": "display_data"
    }
   ],
   "source": [
    "import numpy as np\n",
    "import matplotlib.pyplot as plt\n",
    "from sklearn.linear_model import LinearRegression\n",
    "from sklearn.metrics import r2_score\n",
    "\n",
    "# Generate random data for the first plot\n",
    "np.random.seed(0)\n",
    "x_good = np.linspace(0, 10, 20)\n",
    "y_good = 3 * x_good + 2 + np.random.normal(0, 1, 20)\n",
    "\n",
    "# Fit a linear regression model to the data\n",
    "model_good = LinearRegression()\n",
    "model_good.fit(x_good.reshape(-1, 1), y_good)\n",
    "y_pred_good = model_good.predict(x_good.reshape(-1, 1))\n",
    "\n",
    "# Calculate R-squared for the first plot\n",
    "r2_good = r2_score(y_good, y_pred_good)\n",
    "\n",
    "# Generate random data for the second plot\n",
    "x_weak = np.linspace(0, 10, 20)\n",
    "y_weak = 0.5 * x_weak + 2 + np.random.normal(0, 1, 20)\n",
    "\n",
    "# Fit a linear regression model to the data\n",
    "model_weak = LinearRegression()\n",
    "model_weak.fit(x_weak.reshape(-1, 1), y_weak)\n",
    "y_pred_weak = model_weak.predict(x_weak.reshape(-1, 1))\n",
    "\n",
    "# Calculate R-squared for the second plot\n",
    "r2_weak = r2_score(y_weak, y_pred_weak)\n",
    "\n",
    "# Create the first plot\n",
    "plt.figure(figsize=(12, 5))\n",
    "\n",
    "plt.subplot(1, 2, 1)\n",
    "plt.scatter(x_good, y_good, color='blue', label='Actual Data')\n",
    "plt.plot(x_good, y_pred_good, color='red', label='Regression Line')\n",
    "plt.title(f'Good Fit (R-squared = {r2_good:.2f})')\n",
    "plt.xlabel('X')\n",
    "plt.ylabel('Y')\n",
    "plt.legend()\n",
    "\n",
    "# Create the second plot\n",
    "plt.subplot(1, 2, 2)\n",
    "plt.scatter(x_weak, y_weak, color='blue', label='Actual Data')\n",
    "plt.plot(x_weak, y_pred_weak, color='red', label='Regression Line')\n",
    "plt.title(f'Weaker Fit (R-squared = {r2_weak:.2f})')\n",
    "plt.xlabel('X')\n",
    "plt.ylabel('Y')\n",
    "plt.legend()\n",
    "\n",
    "plt.tight_layout()\n",
    "plt.show()"
   ]
  },
  {
   "cell_type": "markdown",
   "metadata": {},
   "source": [
    "#### naive_model"
   ]
  },
  {
   "cell_type": "code",
   "execution_count": 35,
   "metadata": {},
   "outputs": [
    {
     "name": "stdout",
     "output_type": "stream",
     "text": [
      "Linear Regression Equation:\n",
      "Target = 1.65 + 5.41 * Column1 + -0.65 * Column2 + 1.08 * Column3 + 1.99 * Column4 + 3.03 * Column5\n"
     ]
    }
   ],
   "source": [
    "print_equation(naive_model,df[['Column1', 'Column2', 'Column3', 'Column4', 'Column5']])"
   ]
  },
  {
   "cell_type": "code",
   "execution_count": 36,
   "metadata": {},
   "outputs": [
    {
     "data": {
      "text/plain": [
       "0.64"
      ]
     },
     "execution_count": 36,
     "metadata": {},
     "output_type": "execute_result"
    }
   ],
   "source": [
    "rsquared(df,naive_model,['Column1', 'Column2', 'Column3', 'Column4', 'Column5'])"
   ]
  },
  {
   "cell_type": "markdown",
   "metadata": {},
   "source": [
    "#### naive_model_no_outliers"
   ]
  },
  {
   "cell_type": "code",
   "execution_count": 37,
   "metadata": {},
   "outputs": [
    {
     "name": "stdout",
     "output_type": "stream",
     "text": [
      "Linear Regression Equation:\n",
      "Target = -0.02 + 1.95 * Column1 + 3.03 * Column2 + 3.93 * Column3 + 5.09 * Column4 + -0.00 * Column5\n"
     ]
    }
   ],
   "source": [
    "print_equation(naive_model_no_outliers,df_no_outliers[['Column1', 'Column2', 'Column3', 'Column4', 'Column5']])"
   ]
  },
  {
   "cell_type": "code",
   "execution_count": 38,
   "metadata": {},
   "outputs": [
    {
     "data": {
      "text/plain": [
       "0.96"
      ]
     },
     "execution_count": 38,
     "metadata": {},
     "output_type": "execute_result"
    }
   ],
   "source": [
    "rsquared(df_no_outliers,naive_model_no_outliers,['Column1', 'Column2', 'Column3', 'Column4', 'Column5'])"
   ]
  },
  {
   "cell_type": "markdown",
   "metadata": {},
   "source": [
    "Comment: Good fit, pay attention to the formula."
   ]
  },
  {
   "cell_type": "markdown",
   "metadata": {},
   "source": [
    "#### better_model"
   ]
  },
  {
   "cell_type": "code",
   "execution_count": 39,
   "metadata": {},
   "outputs": [
    {
     "name": "stdout",
     "output_type": "stream",
     "text": [
      "Linear Regression Equation:\n",
      "Target = 0.06 + 4.93 * Column1 + 3.95 * Column3 + 5.04 * Column4 + -0.02 * Column5\n"
     ]
    }
   ],
   "source": [
    "print_equation(better_model,df_no_outliers[['Column1', 'Column3', 'Column4', 'Column5']])"
   ]
  },
  {
   "cell_type": "code",
   "execution_count": 40,
   "metadata": {},
   "outputs": [
    {
     "data": {
      "text/plain": [
       "0.94"
      ]
     },
     "execution_count": 40,
     "metadata": {},
     "output_type": "execute_result"
    }
   ],
   "source": [
    "rsquared(df_no_outliers,better_model,['Column1', 'Column3', 'Column4', 'Column5'])"
   ]
  },
  {
   "cell_type": "markdown",
   "metadata": {},
   "source": [
    "#### best_model_no_outliers"
   ]
  },
  {
   "cell_type": "code",
   "execution_count": 41,
   "metadata": {},
   "outputs": [
    {
     "name": "stdout",
     "output_type": "stream",
     "text": [
      "Linear Regression Equation:\n",
      "Target = 0.05 + 4.93 * Column1 + 3.95 * Column3 + 5.04 * Column4\n"
     ]
    }
   ],
   "source": [
    "print_equation(best_model_no_outliers,df_no_outliers[['Column1', 'Column3', 'Column4']])"
   ]
  },
  {
   "cell_type": "code",
   "execution_count": 42,
   "metadata": {},
   "outputs": [
    {
     "data": {
      "text/plain": [
       "0.94"
      ]
     },
     "execution_count": 42,
     "metadata": {},
     "output_type": "execute_result"
    }
   ],
   "source": [
    "rsquared(df_no_outliers,best_model_no_outliers,['Column1', 'Column3', 'Column4'])"
   ]
  },
  {
   "cell_type": "markdown",
   "metadata": {},
   "source": [
    "Comment: Removing two variables yields still really good results."
   ]
  },
  {
   "cell_type": "markdown",
   "metadata": {},
   "source": [
    "#### \"best_model\""
   ]
  },
  {
   "cell_type": "code",
   "execution_count": 43,
   "metadata": {},
   "outputs": [
    {
     "name": "stdout",
     "output_type": "stream",
     "text": [
      "Linear Regression Equation:\n",
      "Target = 3.99 + 4.12 * Column1 + -0.48 * Column3 + 2.43 * Column4\n"
     ]
    }
   ],
   "source": [
    "print_equation(best_model,df[['Column1', 'Column3', 'Column4']])"
   ]
  },
  {
   "cell_type": "code",
   "execution_count": 44,
   "metadata": {},
   "outputs": [
    {
     "data": {
      "text/plain": [
       "0.49"
      ]
     },
     "execution_count": 44,
     "metadata": {},
     "output_type": "execute_result"
    }
   ],
   "source": [
    "rsquared(df,best_model,['Column1', 'Column3', 'Column4'])"
   ]
  },
  {
   "cell_type": "markdown",
   "metadata": {},
   "source": [
    "Comment: Trying to replicate the 3 variable model but with the entire dataset (including outliers) yields a bad fit."
   ]
  },
  {
   "cell_type": "markdown",
   "metadata": {},
   "source": [
    "True formula:\n",
    "\n",
    "<b><i>target = 2 * column1 + 3 * column2 + 4 * column3 + 5 * column4 + np.random.normal(0, 0.5, num_samples) </b></i>"
   ]
  },
  {
   "cell_type": "code",
   "execution_count": 45,
   "metadata": {},
   "outputs": [],
   "source": [
    "# target = 2 * column1 + 3 * column2 + 4 * column3 + 5 * column4 + np.random.normal(0, 0.5, num_samples)"
   ]
  },
  {
   "cell_type": "markdown",
   "metadata": {},
   "source": [
    "Linear regression works for very well for modeling phenomenons that are linear in nature as the example above. Capturing complex relationships is not possible, unless you create non-linear features(variables) to your model which typically means you are aware of the interaction between the variables. Linear regression also assumes a few things about the data which we covered above.\n",
    "\n",
    "The earliest mention of the term \"regression\" comes from the 19th century where the polymath Sir Francis Galton created a model to describe the relationship between parents height and their children. \n",
    "\n",
    "For the curious reader: <a href=\"https://select-statistics.co.uk/blog/regression-to-the-mean-as-relevant-today-as-it-was-in-the-1900s/\">Galtons study</a>\n",
    "\n",
    "We will get into more nuance regarding linear regression later on in the class."
   ]
  },
  {
   "cell_type": "markdown",
   "metadata": {},
   "source": [
    "# Back to slides"
   ]
  },
  {
   "cell_type": "markdown",
   "metadata": {},
   "source": [
    "## Decision Tree Regression"
   ]
  },
  {
   "cell_type": "markdown",
   "metadata": {},
   "source": [
    "<img src=\"./imgs/dt_plot1.png\" alt=\"Drawing\" style=\"width: 400px;\"/>\n"
   ]
  },
  {
   "cell_type": "markdown",
   "metadata": {},
   "source": [
    "Imagine a dataset coming from a factory consisting of 3 variables. Let the x-axis be something like \"number of packages a machine produces\"(measured in thousands) and the y-axis \"acidity of the product\" (chemical pH). One is related to \"mechanical wear\", the other to \"chemical wear\". Our device gets damaged along its lifetime and we want to define what is the level of damage in any point in time. The other column in the dataset would be exactly that - wear measured by an expert at different points in time in the usage of the components in question. "
   ]
  },
  {
   "cell_type": "code",
   "execution_count": 46,
   "metadata": {},
   "outputs": [
    {
     "data": {
      "text/html": [
       "<div>\n",
       "<style scoped>\n",
       "    .dataframe tbody tr th:only-of-type {\n",
       "        vertical-align: middle;\n",
       "    }\n",
       "\n",
       "    .dataframe tbody tr th {\n",
       "        vertical-align: top;\n",
       "    }\n",
       "\n",
       "    .dataframe thead th {\n",
       "        text-align: right;\n",
       "    }\n",
       "</style>\n",
       "<table border=\"1\" class=\"dataframe\">\n",
       "  <thead>\n",
       "    <tr style=\"text-align: right;\">\n",
       "      <th></th>\n",
       "      <th>packages_produced</th>\n",
       "      <th>acidity_level</th>\n",
       "      <th>wear</th>\n",
       "    </tr>\n",
       "  </thead>\n",
       "  <tbody>\n",
       "    <tr>\n",
       "      <th>0</th>\n",
       "      <td>6.624</td>\n",
       "      <td>3</td>\n",
       "      <td>17.687336</td>\n",
       "    </tr>\n",
       "    <tr>\n",
       "      <th>1</th>\n",
       "      <td>4.779</td>\n",
       "      <td>5</td>\n",
       "      <td>15.023887</td>\n",
       "    </tr>\n",
       "    <tr>\n",
       "      <th>2</th>\n",
       "      <td>3.710</td>\n",
       "      <td>12</td>\n",
       "      <td>24.793562</td>\n",
       "    </tr>\n",
       "    <tr>\n",
       "      <th>3</th>\n",
       "      <td>3.823</td>\n",
       "      <td>9</td>\n",
       "      <td>21.792233</td>\n",
       "    </tr>\n",
       "    <tr>\n",
       "      <th>4</th>\n",
       "      <td>4.146</td>\n",
       "      <td>10</td>\n",
       "      <td>20.559648</td>\n",
       "    </tr>\n",
       "    <tr>\n",
       "      <th>...</th>\n",
       "      <td>...</td>\n",
       "      <td>...</td>\n",
       "      <td>...</td>\n",
       "    </tr>\n",
       "    <tr>\n",
       "      <th>495</th>\n",
       "      <td>4.556</td>\n",
       "      <td>9</td>\n",
       "      <td>23.843525</td>\n",
       "    </tr>\n",
       "    <tr>\n",
       "      <th>496</th>\n",
       "      <td>6.352</td>\n",
       "      <td>5</td>\n",
       "      <td>15.189202</td>\n",
       "    </tr>\n",
       "    <tr>\n",
       "      <th>497</th>\n",
       "      <td>7.539</td>\n",
       "      <td>5</td>\n",
       "      <td>20.405291</td>\n",
       "    </tr>\n",
       "    <tr>\n",
       "      <th>498</th>\n",
       "      <td>7.424</td>\n",
       "      <td>1</td>\n",
       "      <td>15.925591</td>\n",
       "    </tr>\n",
       "    <tr>\n",
       "      <th>499</th>\n",
       "      <td>5.173</td>\n",
       "      <td>7</td>\n",
       "      <td>21.594933</td>\n",
       "    </tr>\n",
       "  </tbody>\n",
       "</table>\n",
       "<p>500 rows × 3 columns</p>\n",
       "</div>"
      ],
      "text/plain": [
       "     packages_produced  acidity_level       wear\n",
       "0                6.624              3  17.687336\n",
       "1                4.779              5  15.023887\n",
       "2                3.710             12  24.793562\n",
       "3                3.823              9  21.792233\n",
       "4                4.146             10  20.559648\n",
       "..                 ...            ...        ...\n",
       "495              4.556              9  23.843525\n",
       "496              6.352              5  15.189202\n",
       "497              7.539              5  20.405291\n",
       "498              7.424              1  15.925591\n",
       "499              5.173              7  21.594933\n",
       "\n",
       "[500 rows x 3 columns]"
      ]
     },
     "execution_count": 46,
     "metadata": {},
     "output_type": "execute_result"
    }
   ],
   "source": [
    "ds = pd.DataFrame({\n",
    "    'packages_produced': random.sample(range(3000, 8000), 500),\n",
    "    'acidity_level': np.random.randint(14, size=500).tolist()\n",
    "})\n",
    "ds['wear'] = 0\n",
    "ds['packages_produced'] /= 1000 \n",
    "ds.loc[ds['acidity_level'] >= 5.5,'wear'] = 22.3\n",
    "ds.loc[(ds['acidity_level'] < 5.5) & (ds['packages_produced']>5300),'wear'] = 18.2 \n",
    "ds.loc[(ds['acidity_level'] < 5.5) & (ds['packages_produced']<=5300) ,'wear'] = 15.4\n",
    "ds['wear'] += np.random.normal(0, 2, 500) # let's add some noise to make the data less perfect ;-)\n",
    "ds"
   ]
  },
  {
   "cell_type": "markdown",
   "metadata": {},
   "source": [
    "A decision tree is defined by how deep and complex rules it is allowed to create. With maximal complexity every data point becomes its own rule and with minimal we are unable to capture the essence. Let's picture an conceptual example where we allow the tree to create 3 rules.\n",
    "\n",
    "Each of the rule will cut the 2-d space in two defined as \"above\" and \"below\" that value. \n",
    "\n",
    "How are the cuts defined? There are a number of criterions that can be chosen, but basically it aims at minimizing the dispersion of the data in each of the cuts. Further details can be found in the documentation of the <a href=\"https://scikit-learn.org/stable/modules/generated/sklearn.tree.DecisionTreeRegressor.html\">Scikit-learn implementation of the Decision Tree for Regression</a>."
   ]
  },
  {
   "cell_type": "markdown",
   "metadata": {},
   "source": [
    "Is the acidity below 5.5 ?"
   ]
  },
  {
   "cell_type": "markdown",
   "metadata": {},
   "source": [
    "<img src=\"./imgs/dt_plot2.png\" alt=\"Drawing\" style=\"width: 400px;\"/>\n"
   ]
  },
  {
   "cell_type": "markdown",
   "metadata": {},
   "source": [
    "Additionally, is the number of packages produced above 5.3 k ?"
   ]
  },
  {
   "cell_type": "markdown",
   "metadata": {},
   "source": [
    "<img src=\"./imgs/dt_plot3.png\" alt=\"Drawing\" style=\"width: 400px;\"/>\n"
   ]
  },
  {
   "cell_type": "markdown",
   "metadata": {},
   "source": [
    "<img src=\"./imgs/dt_plot4.png\" alt=\"Drawing\" style=\"width: 400px;\"/>\n"
   ]
  },
  {
   "cell_type": "markdown",
   "metadata": {},
   "source": [
    "Finally, we add the green color for the case when the acidity is above or equal to 5.5.\n",
    "\n",
    "The final tree can be visualized with the following rules and show the terminal values at the leafs presenting the value the regressor would output at prediction. Those values are the averages within the area that the rules cover. "
   ]
  },
  {
   "cell_type": "markdown",
   "metadata": {},
   "source": [
    "<img src=\"./imgs/dt_plot5.png\" alt=\"Drawing\" style=\"width: 400px;\"/>"
   ]
  },
  {
   "cell_type": "markdown",
   "metadata": {},
   "source": [
    "We could possibly obtain better results by allowing more splits making the model more complex and risking overfitting it. Overfitting happens when your model adapts too much to the peculiarities of the data seen during training and does not capture the general trend for a phenomenon. \n",
    "\n",
    "<img src=\"./imgs/overfitting.png\" alt=\"Drawing\" style=\"width: 400px;\"/>\n",
    "\n",
    "Something worth noting is that this example aims at presenting non-linear effects where combinations of variables together make a difference, requiring the space to be 'cut' in several regions. A linear model wouldn't be able to capture these relationships  well."
   ]
  },
  {
   "cell_type": "markdown",
   "metadata": {},
   "source": [
    "IMPORTANT NOTE\n",
    "\n",
    "- Decision Tree is a non-linear algorithm\n",
    "- The Decision Tree is highly interpretable"
   ]
  },
  {
   "cell_type": "markdown",
   "metadata": {},
   "source": [
    "## Random Forest Regressor"
   ]
  },
  {
   "cell_type": "markdown",
   "metadata": {},
   "source": [
    "As surprising as it may sound like - a forest is a set of many trees like those above. If we picture the previous scenario and imagine we are adding more trees on top of that, it implies adding more rules in parallel onto the same space."
   ]
  },
  {
   "cell_type": "markdown",
   "metadata": {},
   "source": [
    "<img src=\"./imgs/dt_plot6.png\" alt=\"Drawing\" style=\"width: 400px;\"/>"
   ]
  },
  {
   "cell_type": "markdown",
   "metadata": {},
   "source": [
    "<img src=\"./imgs/dt_plot7.png\" alt=\"Drawing\" style=\"width: 400px;\"/>"
   ]
  },
  {
   "cell_type": "markdown",
   "metadata": {},
   "source": [
    "<img src=\"./imgs/dt_plot8.png\" alt=\"Drawing\" style=\"width: 400px;\"/>"
   ]
  },
  {
   "cell_type": "markdown",
   "metadata": {},
   "source": [
    "The image becomes messy, so instead of adding more layers of rules let's instead imagine this. If we have 10 trees, each one would create a unique set of rules like the one drawn out before. One of the other trees could look like this:"
   ]
  },
  {
   "cell_type": "markdown",
   "metadata": {},
   "source": [
    "<img src=\"./imgs/dt_plot9.png\" alt=\"Drawing\" style=\"width: 400px;\"/>"
   ]
  },
  {
   "cell_type": "markdown",
   "metadata": {},
   "source": [
    "Previous decision tree:"
   ]
  },
  {
   "cell_type": "markdown",
   "metadata": {},
   "source": [
    "<img src=\"./imgs/dt_plot5.png\" alt=\"Drawing\" style=\"width: 400px;\"/>"
   ]
  },
  {
   "cell_type": "markdown",
   "metadata": {},
   "source": [
    "The cut points are different despite the number of cuts coincides (similiar tree complexity). With 10 trees in total of this type, we will want the model to return a single value for every data point instead of 10 as the case would be in case we would have 10 Tree models instead of 1 Random Forest model. These 10 values can be seen as outputs from 10 separate experts. To agree on a final verdict they will need to take the mean, median, min or max of those predictions. For regression - most commonly the mean is used, as this choice considers outliers not to be a problem and each data point to have equal importance.\n",
    "\n",
    "For the curious reader: <a href=\"https://www.stat.berkeley.edu/~breiman/randomforest2001.pdf\">Paper on Random Forests</a>"
   ]
  },
  {
   "cell_type": "markdown",
   "metadata": {},
   "source": [
    "IMPORTANT NOTE\n",
    "\n",
    "- Random Forest is an ensamble model consisting of 2 or more Decision Trees\n",
    "- As much as each tree is highly interpretable, the Random Forest model is not"
   ]
  },
  {
   "cell_type": "markdown",
   "metadata": {},
   "source": [
    "## Summary"
   ]
  },
  {
   "cell_type": "markdown",
   "metadata": {},
   "source": [
    "We covered:\n",
    "- Linear Regression and its assumptions\n",
    "- Decision Trees\n",
    "- Random Forest"
   ]
  },
  {
   "cell_type": "markdown",
   "metadata": {},
   "source": [
    "# Q & A"
   ]
  },
  {
   "cell_type": "markdown",
   "metadata": {},
   "source": [
    "# Part II: \n",
    "    - Facts about the dataset\n",
    "    - Exploratory data analysis\n",
    "    - Model training"
   ]
  },
  {
   "cell_type": "markdown",
   "metadata": {},
   "source": [
    "# Part III: \n",
    "    - Discussing evaluation metrics\n",
    "    - The right choice of metric for our problem and results\n",
    "    - Diagnosing problems in our models\n",
    "    - End survey"
   ]
  }
 ],
 "metadata": {
  "kernelspec": {
   "display_name": "Python 3",
   "language": "python",
   "name": "python3"
  },
  "language_info": {
   "codemirror_mode": {
    "name": "ipython",
    "version": 3
   },
   "file_extension": ".py",
   "mimetype": "text/x-python",
   "name": "python",
   "nbconvert_exporter": "python",
   "pygments_lexer": "ipython3",
   "version": "3.7.6"
  },
  "toc": {
   "base_numbering": 1,
   "nav_menu": {},
   "number_sections": true,
   "sideBar": true,
   "skip_h1_title": false,
   "title_cell": "Table of Contents",
   "title_sidebar": "Contents",
   "toc_cell": false,
   "toc_position": {},
   "toc_section_display": true,
   "toc_window_display": false
  },
  "varInspector": {
   "cols": {
    "lenName": 16,
    "lenType": 16,
    "lenVar": 40
   },
   "kernels_config": {
    "python": {
     "delete_cmd_postfix": "",
     "delete_cmd_prefix": "del ",
     "library": "var_list.py",
     "varRefreshCmd": "print(var_dic_list())"
    },
    "r": {
     "delete_cmd_postfix": ") ",
     "delete_cmd_prefix": "rm(",
     "library": "var_list.r",
     "varRefreshCmd": "cat(var_dic_list()) "
    }
   },
   "types_to_exclude": [
    "module",
    "function",
    "builtin_function_or_method",
    "instance",
    "_Feature"
   ],
   "window_display": false
  }
 },
 "nbformat": 4,
 "nbformat_minor": 4
}
